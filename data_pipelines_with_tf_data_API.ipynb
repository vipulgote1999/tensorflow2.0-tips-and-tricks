{
  "nbformat": 4,
  "nbformat_minor": 0,
  "metadata": {
    "colab": {
      "name": "data_pipelines with tf.data API.ipynb",
      "provenance": []
    },
    "kernelspec": {
      "name": "python3",
      "display_name": "Python 3"
    }
  },
  "cells": [
    {
      "cell_type": "code",
      "metadata": {
        "id": "ZKcp-ftW9Uz5",
        "colab_type": "code",
        "colab": {}
      },
      "source": [
        "import numpy as np\n",
        "import tensorflow as tf"
      ],
      "execution_count": 0,
      "outputs": []
    },
    {
      "cell_type": "code",
      "metadata": {
        "id": "h15UMia5AUzg",
        "colab_type": "code",
        "colab": {}
      },
      "source": [
        "from tensorflow.keras.utils import get_file"
      ],
      "execution_count": 0,
      "outputs": []
    },
    {
      "cell_type": "markdown",
      "metadata": {
        "id": "7yIRGxJgoSiz",
        "colab_type": "text"
      },
      "source": [
        "creating tenosr with random mehod of tensorflow , maxval is neccesssary when we are going to specifiy the datatype of values in the tensor"
      ]
    },
    {
      "cell_type": "code",
      "metadata": {
        "id": "KNvAowGLA2_8",
        "colab_type": "code",
        "colab": {}
      },
      "source": [
        "tensor1=tf.random.uniform([5,5],maxval=30,seed=10,dtype=tf.int32)"
      ],
      "execution_count": 0,
      "outputs": []
    },
    {
      "cell_type": "code",
      "metadata": {
        "id": "t64CG1PzE9rp",
        "colab_type": "code",
        "colab": {}
      },
      "source": [
        "tensor2=tf.random.uniform([5,5],maxval=100,seed=10,dtype=tf.int32)"
      ],
      "execution_count": 0,
      "outputs": []
    },
    {
      "cell_type": "markdown",
      "metadata": {
        "id": "vgfrgetvolOu",
        "colab_type": "text"
      },
      "source": [
        "we can create dataset using tf.data.Dataset.from_tensor_slice menthod"
      ]
    },
    {
      "cell_type": "code",
      "metadata": {
        "id": "4kV2rly1FPdf",
        "colab_type": "code",
        "outputId": "9844d6d6-4ef3-446c-b876-0fdd1d28de27",
        "colab": {
          "base_uri": "https://localhost:8080/",
          "height": 34
        }
      },
      "source": [
        "dataset1=tf.data.Dataset.from_tensor_slices(tensor1)\n",
        "print([i.numpy() for i in dataset1.take(2)])"
      ],
      "execution_count": 0,
      "outputs": [
        {
          "output_type": "stream",
          "text": [
            "[array([ 0,  2,  5, 17, 12], dtype=int32), array([12, 23,  5, 19, 20], dtype=int32)]\n"
          ],
          "name": "stdout"
        }
      ]
    },
    {
      "cell_type": "code",
      "metadata": {
        "id": "MEScDY0rLUKk",
        "colab_type": "code",
        "outputId": "a824c325-9b1c-4d66-f56b-6ca4a1be3673",
        "colab": {
          "base_uri": "https://localhost:8080/",
          "height": 34
        }
      },
      "source": [
        "dataset2=tf.data.Dataset.from_tensor_slices(tensor2)\n",
        "dataset2"
      ],
      "execution_count": 0,
      "outputs": [
        {
          "output_type": "execute_result",
          "data": {
            "text/plain": [
              "<TensorSliceDataset shapes: (5,), types: tf.int32>"
            ]
          },
          "metadata": {
            "tags": []
          },
          "execution_count": 11
        }
      ]
    },
    {
      "cell_type": "markdown",
      "metadata": {
        "id": "DIQDObPSpC-J",
        "colab_type": "text"
      },
      "source": [
        "we can inspect the tensor using elemnet_spect property \n"
      ]
    },
    {
      "cell_type": "code",
      "metadata": {
        "id": "N1A3DXxkGL8l",
        "colab_type": "code",
        "outputId": "be614a51-3d33-4c52-e94c-09f4eb3fdc15",
        "colab": {
          "base_uri": "https://localhost:8080/",
          "height": 34
        }
      },
      "source": [
        "dataset1.element_spec"
      ],
      "execution_count": 0,
      "outputs": [
        {
          "output_type": "execute_result",
          "data": {
            "text/plain": [
              "TensorSpec(shape=(5,), dtype=tf.int32, name=None)"
            ]
          },
          "metadata": {
            "tags": []
          },
          "execution_count": 12
        }
      ]
    },
    {
      "cell_type": "markdown",
      "metadata": {
        "id": "TfBV1-PMzY3V",
        "colab_type": "text"
      },
      "source": [
        "zip method combine two dataset in stack form like vstack or hstack genarlly vstcak is used"
      ]
    },
    {
      "cell_type": "code",
      "metadata": {
        "id": "-VJ0-4pMFo-l",
        "colab_type": "code",
        "colab": {}
      },
      "source": [
        "combine_dataset=tf.data.Dataset.zip((dataset1,dataset2))"
      ],
      "execution_count": 0,
      "outputs": []
    },
    {
      "cell_type": "code",
      "metadata": {
        "id": "skx1GtPNGC7v",
        "colab_type": "code",
        "outputId": "61d075c5-f1f4-4085-c5ce-b6eb45697aca",
        "colab": {
          "base_uri": "https://localhost:8080/",
          "height": 52
        }
      },
      "source": [
        "combine_dataset.element_spec"
      ],
      "execution_count": 0,
      "outputs": [
        {
          "output_type": "execute_result",
          "data": {
            "text/plain": [
              "(TensorSpec(shape=(5,), dtype=tf.int32, name=None),\n",
              " TensorSpec(shape=(5,), dtype=tf.int32, name=None))"
            ]
          },
          "metadata": {
            "tags": []
          },
          "execution_count": 14
        }
      ]
    },
    {
      "cell_type": "markdown",
      "metadata": {
        "id": "vI9TqGgHzjah",
        "colab_type": "text"
      },
      "source": [
        "we can print contennt of combined dataset tensor using this for loop of iter method\n",
        "\n"
      ]
    },
    {
      "cell_type": "code",
      "metadata": {
        "id": "DVfcxQLzHvML",
        "colab_type": "code",
        "outputId": "ee8b584b-842e-449a-8c8a-03b6fdb1752c",
        "colab": {
          "base_uri": "https://localhost:8080/",
          "height": 52
        }
      },
      "source": [
        "for i in combine_dataset.take(2):\n",
        "  print(i)"
      ],
      "execution_count": 0,
      "outputs": [
        {
          "output_type": "stream",
          "text": [
            "(<tf.Tensor: shape=(5,), dtype=int32, numpy=array([ 0,  2,  5, 17, 12], dtype=int32)>, <tf.Tensor: shape=(5,), dtype=int32, numpy=array([34, 13,  0, 38, 99], dtype=int32)>)\n",
            "(<tf.Tensor: shape=(5,), dtype=int32, numpy=array([12, 23,  5, 19, 20], dtype=int32)>, <tf.Tensor: shape=(5,), dtype=int32, numpy=array([ 4, 92, 89, 80, 64], dtype=int32)>)\n"
          ],
          "name": "stdout"
        }
      ]
    },
    {
      "cell_type": "markdown",
      "metadata": {
        "id": "WmPli7b5NdMn",
        "colab_type": "text"
      },
      "source": [
        "#**Loading numpy array in the memory and training one simple model.**"
      ]
    },
    {
      "cell_type": "code",
      "metadata": {
        "id": "5-jUpYfLNnJw",
        "colab_type": "code",
        "outputId": "254c9ed1-6662-4cfb-b093-9265ad5f8451",
        "colab": {
          "base_uri": "https://localhost:8080/",
          "height": 52
        }
      },
      "source": [
        "train,test=tf.keras.datasets.mnist.load_data()"
      ],
      "execution_count": 0,
      "outputs": [
        {
          "output_type": "stream",
          "text": [
            "Downloading data from https://storage.googleapis.com/tensorflow/tf-keras-datasets/mnist.npz\n",
            "11493376/11490434 [==============================] - 0s 0us/step\n"
          ],
          "name": "stdout"
        }
      ]
    },
    {
      "cell_type": "code",
      "metadata": {
        "id": "-m_fmvAtN_gu",
        "colab_type": "code",
        "colab": {}
      },
      "source": [
        "train_data,labels=train\n",
        "train_data=train_data/255.0"
      ],
      "execution_count": 0,
      "outputs": []
    },
    {
      "cell_type": "code",
      "metadata": {
        "id": "lprquy9aOcQk",
        "colab_type": "code",
        "colab": {}
      },
      "source": [
        "training_dataset=tf.data.Dataset.from_tensor_slices((train_data,labels))"
      ],
      "execution_count": 0,
      "outputs": []
    },
    {
      "cell_type": "code",
      "metadata": {
        "id": "JqH0tevRPs_o",
        "colab_type": "code",
        "outputId": "70e440ee-12bf-46d2-d58d-3f1f1d8471da",
        "colab": {
          "base_uri": "https://localhost:8080/",
          "height": 52
        }
      },
      "source": [
        "training_dataset.element_spec"
      ],
      "execution_count": 0,
      "outputs": [
        {
          "output_type": "execute_result",
          "data": {
            "text/plain": [
              "(TensorSpec(shape=(28, 28), dtype=tf.float64, name=None),\n",
              " TensorSpec(shape=(), dtype=tf.uint8, name=None))"
            ]
          },
          "metadata": {
            "tags": []
          },
          "execution_count": 26
        }
      ]
    },
    {
      "cell_type": "markdown",
      "metadata": {
        "id": "2RZbEtyAz31c",
        "colab_type": "text"
      },
      "source": [
        "# Guide to use generator to build input pipelines "
      ]
    },
    {
      "cell_type": "markdown",
      "metadata": {
        "id": "t1r_B4Uf1CLP",
        "colab_type": "text"
      },
      "source": [
        "## yeild keyword is just like return keyword in functions but it dosen't end function execution flow after returning the value."
      ]
    },
    {
      "cell_type": "code",
      "metadata": {
        "id": "CClm0R1UT-9b",
        "colab_type": "code",
        "colab": {}
      },
      "source": [
        "def count(stop):\n",
        "  i = 0\n",
        "  while i<stop:\n",
        "    yield i\n",
        "    i += 1"
      ],
      "execution_count": 0,
      "outputs": []
    },
    {
      "cell_type": "code",
      "metadata": {
        "id": "Lb4qZPgTUMX5",
        "colab_type": "code",
        "outputId": "56f8a1a0-9f99-4389-8e6a-d9e3310920fb",
        "colab": {
          "base_uri": "https://localhost:8080/",
          "height": 190
        }
      },
      "source": [
        "for n in count(10):\n",
        "  print(n)"
      ],
      "execution_count": 0,
      "outputs": [
        {
          "output_type": "stream",
          "text": [
            "0\n",
            "1\n",
            "2\n",
            "3\n",
            "4\n",
            "5\n",
            "6\n",
            "7\n",
            "8\n",
            "9\n"
          ],
          "name": "stdout"
        }
      ]
    },
    {
      "cell_type": "code",
      "metadata": {
        "id": "iQgBAu-ZUrGH",
        "colab_type": "code",
        "outputId": "072490fe-57ea-45a3-d997-eb03eae64f60",
        "colab": {
          "base_uri": "https://localhost:8080/",
          "height": 34
        }
      },
      "source": [
        "ds_Counter=tf.data.Dataset.from_generator(count,args=[100],output_shapes=(),output_types=tf.int32)\n",
        "ds_Counter.element_spec"
      ],
      "execution_count": 0,
      "outputs": [
        {
          "output_type": "execute_result",
          "data": {
            "text/plain": [
              "TensorSpec(shape=(), dtype=tf.int32, name=None)"
            ]
          },
          "metadata": {
            "tags": []
          },
          "execution_count": 53
        }
      ]
    },
    {
      "cell_type": "code",
      "metadata": {
        "id": "kk9bT7NvVKiY",
        "colab_type": "code",
        "outputId": "15edb8f7-f2bf-4284-8eca-b18c809732cc",
        "colab": {
          "base_uri": "https://localhost:8080/",
          "height": 364
        }
      },
      "source": [
        "for count_batch in ds_Counter.repeat().batch(10).take(20):\n",
        "  print(count_batch.numpy())"
      ],
      "execution_count": 0,
      "outputs": [
        {
          "output_type": "stream",
          "text": [
            "[0 1 2 3 4 5 6 7 8 9]\n",
            "[10 11 12 13 14 15 16 17 18 19]\n",
            "[20 21 22 23 24 25 26 27 28 29]\n",
            "[30 31 32 33 34 35 36 37 38 39]\n",
            "[40 41 42 43 44 45 46 47 48 49]\n",
            "[50 51 52 53 54 55 56 57 58 59]\n",
            "[60 61 62 63 64 65 66 67 68 69]\n",
            "[70 71 72 73 74 75 76 77 78 79]\n",
            "[80 81 82 83 84 85 86 87 88 89]\n",
            "[90 91 92 93 94 95 96 97 98 99]\n",
            "[0 1 2 3 4 5 6 7 8 9]\n",
            "[10 11 12 13 14 15 16 17 18 19]\n",
            "[20 21 22 23 24 25 26 27 28 29]\n",
            "[30 31 32 33 34 35 36 37 38 39]\n",
            "[40 41 42 43 44 45 46 47 48 49]\n",
            "[50 51 52 53 54 55 56 57 58 59]\n",
            "[60 61 62 63 64 65 66 67 68 69]\n",
            "[70 71 72 73 74 75 76 77 78 79]\n",
            "[80 81 82 83 84 85 86 87 88 89]\n",
            "[90 91 92 93 94 95 96 97 98 99]\n"
          ],
          "name": "stdout"
        }
      ]
    },
    {
      "cell_type": "code",
      "metadata": {
        "id": "RYWkc6p7qWEc",
        "colab_type": "code",
        "colab": {}
      },
      "source": [
        "size=np.random.randint(0,10)"
      ],
      "execution_count": 0,
      "outputs": []
    },
    {
      "cell_type": "code",
      "metadata": {
        "id": "kpM6QPhHqhrk",
        "colab_type": "code",
        "outputId": "fc5ac416-6d85-4a36-f1ac-acaab258d710",
        "colab": {
          "base_uri": "https://localhost:8080/",
          "height": 34
        }
      },
      "source": [
        "np.random.normal(size=(size,))"
      ],
      "execution_count": 0,
      "outputs": [
        {
          "output_type": "execute_result",
          "data": {
            "text/plain": [
              "array([-0.72179242, -0.47758388])"
            ]
          },
          "metadata": {
            "tags": []
          },
          "execution_count": 58
        }
      ]
    },
    {
      "cell_type": "markdown",
      "metadata": {
        "id": "ZAjPX_ho0Qit",
        "colab_type": "text"
      },
      "source": [
        "## yeild keyword is just like return keyword in functions but it dosen't end function execution flow after returning the value.\n",
        "\n",
        "\n",
        "*   this method is for sequence datsaset in which the input sequences does not have fix length the we should use this method\n",
        "*   for this classes how we can able to build pipeline through from_generator function its examples is shown below.\n",
        "* for this kind of sequence data genearally padded_batch method should be use beacuse they dont have fix size that's why padding in shuch cases necessary.\n",
        "\n",
        "\n"
      ]
    },
    {
      "cell_type": "code",
      "metadata": {
        "id": "CYN92vEzqhkb",
        "colab_type": "code",
        "colab": {}
      },
      "source": [
        "def gen_series():\n",
        "  i=0\n",
        "  while True:\n",
        "    size=np.random.randint(0,10)\n",
        "    yield i,np.random.normal(size=(size,))\n",
        "    i+=1"
      ],
      "execution_count": 0,
      "outputs": []
    },
    {
      "cell_type": "code",
      "metadata": {
        "id": "PS41gu-KrmcU",
        "colab_type": "code",
        "outputId": "8ceb9af3-a814-4201-e4f3-e9e3af9c1db3",
        "colab": {
          "base_uri": "https://localhost:8080/",
          "height": 190
        }
      },
      "source": [
        "for i,series in gen_series():\n",
        "  print(i,\":\",str(series))\n",
        "  if i>=5:\n",
        "    break"
      ],
      "execution_count": 0,
      "outputs": [
        {
          "output_type": "stream",
          "text": [
            "0 : [-1.83278414  2.70088551 -1.29823003  0.80067206 -0.54414125 -0.47762034\n",
            " -0.65732498  1.54710453 -1.28211411]\n",
            "1 : [-0.95274469  0.93444678 -0.92942707 -1.91951745  0.17045007 -0.55261076\n",
            "  0.02864744]\n",
            "2 : [ 0.04159239 -0.84904169  1.06019583  0.30041129  1.26000343 -0.19721676\n",
            "  2.37940582  0.35967574  0.88384824]\n",
            "3 : [-1.43723181 -0.03533434 -2.13672327  1.01269084 -0.72983846  0.9176672\n",
            "  1.19202712 -0.36509494  0.96899044]\n",
            "4 : [-0.99430593]\n",
            "5 : [ 0.76257566 -0.26496044 -1.89362836  0.82397426 -0.28752382  0.33587271]\n"
          ],
          "name": "stdout"
        }
      ]
    },
    {
      "cell_type": "code",
      "metadata": {
        "id": "h-mdFPePsO2x",
        "colab_type": "code",
        "outputId": "33fdff00-e445-4b33-bab7-6cccd9a8d77d",
        "colab": {
          "base_uri": "https://localhost:8080/",
          "height": 34
        }
      },
      "source": [
        "ds_series=tf.data.Dataset.from_generator(gen_series,\n",
        "                                        output_types=(tf.int32,tf.float32),\n",
        "                                         output_shapes=((),(None,))\n",
        "                                         )\n",
        "ds_series"
      ],
      "execution_count": 0,
      "outputs": [
        {
          "output_type": "execute_result",
          "data": {
            "text/plain": [
              "<FlatMapDataset shapes: ((), (None,)), types: (tf.int32, tf.float32)>"
            ]
          },
          "metadata": {
            "tags": []
          },
          "execution_count": 66
        }
      ]
    },
    {
      "cell_type": "code",
      "metadata": {
        "id": "2unkevyktf77",
        "colab_type": "code",
        "outputId": "088995e5-356f-434c-be02-2a439a892e21",
        "colab": {
          "base_uri": "https://localhost:8080/",
          "height": 398
        }
      },
      "source": [
        "ds_series_batch=ds_series.shuffle(20).padded_batch(10,padded_shapes=([],[None,]))\n",
        "\n",
        "ids,sequences=next(iter(ds_series_batch))\n",
        "print(ids)\n",
        "print()\n",
        "print(sequences.numpy())"
      ],
      "execution_count": 0,
      "outputs": [
        {
          "output_type": "stream",
          "text": [
            "tf.Tensor([ 0  1 15 13  7 10 24  5 27 17], shape=(10,), dtype=int32)\n",
            "\n",
            "[[-1.1867411  -0.05611203  0.          0.          0.          0.\n",
            "   0.          0.        ]\n",
            " [-0.48558477  0.06515926  0.          0.          0.          0.\n",
            "   0.          0.        ]\n",
            " [-0.9246901  -0.3997179   0.          0.          0.          0.\n",
            "   0.          0.        ]\n",
            " [ 1.5991867  -0.43852106  0.          0.          0.          0.\n",
            "   0.          0.        ]\n",
            " [-1.0329858  -0.617649    1.4838111   0.7094071   0.16340688  0.4523243\n",
            "   0.69156945  2.0802364 ]\n",
            " [-1.1679424  -0.9928939   0.43885055  0.          0.          0.\n",
            "   0.          0.        ]\n",
            " [-0.05163113  0.          0.          0.          0.          0.\n",
            "   0.          0.        ]\n",
            " [ 0.09277311 -0.17964333 -0.21321875 -0.10473029  0.          0.\n",
            "   0.          0.        ]\n",
            " [ 0.12834236  0.03361898  0.3188944   0.04209754 -1.6741658  -1.3082092\n",
            "  -0.93649584  1.0305464 ]\n",
            " [-0.04707785 -1.2049049   0.          0.          0.          0.\n",
            "   0.          0.        ]]\n"
          ],
          "name": "stdout"
        }
      ]
    }
  ]
}
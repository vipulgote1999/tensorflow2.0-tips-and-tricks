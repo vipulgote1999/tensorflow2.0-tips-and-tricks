{
  "nbformat": 4,
  "nbformat_minor": 0,
  "metadata": {
    "colab": {
      "name": "model train tf.data Api for regression problem  .ipynb",
      "provenance": []
    },
    "kernelspec": {
      "name": "python3",
      "display_name": "Python 3"
    },
    "accelerator": "GPU"
  },
  "cells": [
    {
      "cell_type": "code",
      "metadata": {
        "id": "KPXFgfUv2tVG",
        "colab_type": "code",
        "colab": {
          "base_uri": "https://localhost:8080/",
          "height": 208
        },
        "outputId": "a4c2d6cc-1109-445e-d577-d9758fd229e0"
      },
      "source": [
        "!pip install kaggle"
      ],
      "execution_count": 1,
      "outputs": [
        {
          "output_type": "stream",
          "text": [
            "Requirement already satisfied: kaggle in /usr/local/lib/python3.6/dist-packages (1.5.6)\n",
            "Requirement already satisfied: tqdm in /usr/local/lib/python3.6/dist-packages (from kaggle) (4.38.0)\n",
            "Requirement already satisfied: python-slugify in /usr/local/lib/python3.6/dist-packages (from kaggle) (4.0.0)\n",
            "Requirement already satisfied: urllib3<1.25,>=1.21.1 in /usr/local/lib/python3.6/dist-packages (from kaggle) (1.24.3)\n",
            "Requirement already satisfied: certifi in /usr/local/lib/python3.6/dist-packages (from kaggle) (2020.4.5.1)\n",
            "Requirement already satisfied: six>=1.10 in /usr/local/lib/python3.6/dist-packages (from kaggle) (1.12.0)\n",
            "Requirement already satisfied: python-dateutil in /usr/local/lib/python3.6/dist-packages (from kaggle) (2.8.1)\n",
            "Requirement already satisfied: requests in /usr/local/lib/python3.6/dist-packages (from kaggle) (2.23.0)\n",
            "Requirement already satisfied: text-unidecode>=1.3 in /usr/local/lib/python3.6/dist-packages (from python-slugify->kaggle) (1.3)\n",
            "Requirement already satisfied: idna<3,>=2.5 in /usr/local/lib/python3.6/dist-packages (from requests->kaggle) (2.9)\n",
            "Requirement already satisfied: chardet<4,>=3.0.2 in /usr/local/lib/python3.6/dist-packages (from requests->kaggle) (3.0.4)\n"
          ],
          "name": "stdout"
        }
      ]
    },
    {
      "cell_type": "code",
      "metadata": {
        "id": "leaw_D5KA_Fd",
        "colab_type": "code",
        "colab": {}
      },
      "source": [
        "! cp /content/kaggle.json /root/.kaggle"
      ],
      "execution_count": 0,
      "outputs": []
    },
    {
      "cell_type": "code",
      "metadata": {
        "id": "znORr7lABOk-",
        "colab_type": "code",
        "colab": {
          "base_uri": "https://localhost:8080/",
          "height": 34
        },
        "outputId": "9cf60efd-c6f0-4761-aa6c-a470ac1e5eb9"
      },
      "source": [
        "import kaggle "
      ],
      "execution_count": 5,
      "outputs": [
        {
          "output_type": "stream",
          "text": [
            "Warning: Your Kaggle API key is readable by other users on this system! To fix this, you can run 'chmod 600 /root/.kaggle/kaggle.json'\n"
          ],
          "name": "stdout"
        }
      ]
    },
    {
      "cell_type": "code",
      "metadata": {
        "id": "GrVS0li4Bpnb",
        "colab_type": "code",
        "colab": {}
      },
      "source": [
        "!chmod 600 /root/.kaggle/kaggle.json"
      ],
      "execution_count": 0,
      "outputs": []
    },
    {
      "cell_type": "code",
      "metadata": {
        "id": "ST6j0BgBBr7U",
        "colab_type": "code",
        "colab": {
          "base_uri": "https://localhost:8080/",
          "height": 69
        },
        "outputId": "e28d633f-7bf3-46e6-a6f7-851b6399f3d0"
      },
      "source": [
        "! kaggle datasets download -d uciml/autompg-dataset"
      ],
      "execution_count": 7,
      "outputs": [
        {
          "output_type": "stream",
          "text": [
            "Downloading autompg-dataset.zip to /content\n",
            "\r  0% 0.00/6.31k [00:00<?, ?B/s]\n",
            "\r100% 6.31k/6.31k [00:00<00:00, 5.59MB/s]\n"
          ],
          "name": "stdout"
        }
      ]
    },
    {
      "cell_type": "code",
      "metadata": {
        "id": "TwxzVeGKCWxl",
        "colab_type": "code",
        "colab": {
          "base_uri": "https://localhost:8080/",
          "height": 69
        },
        "outputId": "cf2631f4-a76c-46fb-87e4-acdb59aa72f4"
      },
      "source": [
        "if int(input())==1:\n",
        "  !unzip /content/autompg-dataset.zip\n",
        "else:\n",
        "  pass"
      ],
      "execution_count": 8,
      "outputs": [
        {
          "output_type": "stream",
          "text": [
            "1\n",
            "Archive:  /content/autompg-dataset.zip\n",
            "  inflating: auto-mpg.csv            \n"
          ],
          "name": "stdout"
        }
      ]
    },
    {
      "cell_type": "markdown",
      "metadata": {
        "id": "iZ3UQ6yOC46e",
        "colab_type": "text"
      },
      "source": [
        "# creating tensorflow pipelines for CSV files."
      ]
    },
    {
      "cell_type": "code",
      "metadata": {
        "id": "88g300apC0wF",
        "colab_type": "code",
        "colab": {}
      },
      "source": [
        "import tensorflow as tf\n",
        "import pandas as pd\n",
        "import numpy as np"
      ],
      "execution_count": 0,
      "outputs": []
    },
    {
      "cell_type": "code",
      "metadata": {
        "id": "yHt4_SZ2DPh4",
        "colab_type": "code",
        "colab": {
          "base_uri": "https://localhost:8080/",
          "height": 416
        },
        "outputId": "9f827ff7-ee3e-4e9e-891e-c71735c60d3c"
      },
      "source": [
        "dataframe=pd.read_csv('/content/auto-mpg.csv',na_filter=True,na_values=\"?\")\n",
        "dataframe"
      ],
      "execution_count": 10,
      "outputs": [
        {
          "output_type": "execute_result",
          "data": {
            "text/html": [
              "<div>\n",
              "<style scoped>\n",
              "    .dataframe tbody tr th:only-of-type {\n",
              "        vertical-align: middle;\n",
              "    }\n",
              "\n",
              "    .dataframe tbody tr th {\n",
              "        vertical-align: top;\n",
              "    }\n",
              "\n",
              "    .dataframe thead th {\n",
              "        text-align: right;\n",
              "    }\n",
              "</style>\n",
              "<table border=\"1\" class=\"dataframe\">\n",
              "  <thead>\n",
              "    <tr style=\"text-align: right;\">\n",
              "      <th></th>\n",
              "      <th>mpg</th>\n",
              "      <th>cylinders</th>\n",
              "      <th>displacement</th>\n",
              "      <th>horsepower</th>\n",
              "      <th>weight</th>\n",
              "      <th>acceleration</th>\n",
              "      <th>model year</th>\n",
              "      <th>origin</th>\n",
              "      <th>car name</th>\n",
              "    </tr>\n",
              "  </thead>\n",
              "  <tbody>\n",
              "    <tr>\n",
              "      <th>0</th>\n",
              "      <td>18.0</td>\n",
              "      <td>8</td>\n",
              "      <td>307.0</td>\n",
              "      <td>130.0</td>\n",
              "      <td>3504</td>\n",
              "      <td>12.0</td>\n",
              "      <td>70</td>\n",
              "      <td>1</td>\n",
              "      <td>chevrolet chevelle malibu</td>\n",
              "    </tr>\n",
              "    <tr>\n",
              "      <th>1</th>\n",
              "      <td>15.0</td>\n",
              "      <td>8</td>\n",
              "      <td>350.0</td>\n",
              "      <td>165.0</td>\n",
              "      <td>3693</td>\n",
              "      <td>11.5</td>\n",
              "      <td>70</td>\n",
              "      <td>1</td>\n",
              "      <td>buick skylark 320</td>\n",
              "    </tr>\n",
              "    <tr>\n",
              "      <th>2</th>\n",
              "      <td>18.0</td>\n",
              "      <td>8</td>\n",
              "      <td>318.0</td>\n",
              "      <td>150.0</td>\n",
              "      <td>3436</td>\n",
              "      <td>11.0</td>\n",
              "      <td>70</td>\n",
              "      <td>1</td>\n",
              "      <td>plymouth satellite</td>\n",
              "    </tr>\n",
              "    <tr>\n",
              "      <th>3</th>\n",
              "      <td>16.0</td>\n",
              "      <td>8</td>\n",
              "      <td>304.0</td>\n",
              "      <td>150.0</td>\n",
              "      <td>3433</td>\n",
              "      <td>12.0</td>\n",
              "      <td>70</td>\n",
              "      <td>1</td>\n",
              "      <td>amc rebel sst</td>\n",
              "    </tr>\n",
              "    <tr>\n",
              "      <th>4</th>\n",
              "      <td>17.0</td>\n",
              "      <td>8</td>\n",
              "      <td>302.0</td>\n",
              "      <td>140.0</td>\n",
              "      <td>3449</td>\n",
              "      <td>10.5</td>\n",
              "      <td>70</td>\n",
              "      <td>1</td>\n",
              "      <td>ford torino</td>\n",
              "    </tr>\n",
              "    <tr>\n",
              "      <th>...</th>\n",
              "      <td>...</td>\n",
              "      <td>...</td>\n",
              "      <td>...</td>\n",
              "      <td>...</td>\n",
              "      <td>...</td>\n",
              "      <td>...</td>\n",
              "      <td>...</td>\n",
              "      <td>...</td>\n",
              "      <td>...</td>\n",
              "    </tr>\n",
              "    <tr>\n",
              "      <th>393</th>\n",
              "      <td>27.0</td>\n",
              "      <td>4</td>\n",
              "      <td>140.0</td>\n",
              "      <td>86.0</td>\n",
              "      <td>2790</td>\n",
              "      <td>15.6</td>\n",
              "      <td>82</td>\n",
              "      <td>1</td>\n",
              "      <td>ford mustang gl</td>\n",
              "    </tr>\n",
              "    <tr>\n",
              "      <th>394</th>\n",
              "      <td>44.0</td>\n",
              "      <td>4</td>\n",
              "      <td>97.0</td>\n",
              "      <td>52.0</td>\n",
              "      <td>2130</td>\n",
              "      <td>24.6</td>\n",
              "      <td>82</td>\n",
              "      <td>2</td>\n",
              "      <td>vw pickup</td>\n",
              "    </tr>\n",
              "    <tr>\n",
              "      <th>395</th>\n",
              "      <td>32.0</td>\n",
              "      <td>4</td>\n",
              "      <td>135.0</td>\n",
              "      <td>84.0</td>\n",
              "      <td>2295</td>\n",
              "      <td>11.6</td>\n",
              "      <td>82</td>\n",
              "      <td>1</td>\n",
              "      <td>dodge rampage</td>\n",
              "    </tr>\n",
              "    <tr>\n",
              "      <th>396</th>\n",
              "      <td>28.0</td>\n",
              "      <td>4</td>\n",
              "      <td>120.0</td>\n",
              "      <td>79.0</td>\n",
              "      <td>2625</td>\n",
              "      <td>18.6</td>\n",
              "      <td>82</td>\n",
              "      <td>1</td>\n",
              "      <td>ford ranger</td>\n",
              "    </tr>\n",
              "    <tr>\n",
              "      <th>397</th>\n",
              "      <td>31.0</td>\n",
              "      <td>4</td>\n",
              "      <td>119.0</td>\n",
              "      <td>82.0</td>\n",
              "      <td>2720</td>\n",
              "      <td>19.4</td>\n",
              "      <td>82</td>\n",
              "      <td>1</td>\n",
              "      <td>chevy s-10</td>\n",
              "    </tr>\n",
              "  </tbody>\n",
              "</table>\n",
              "<p>398 rows × 9 columns</p>\n",
              "</div>"
            ],
            "text/plain": [
              "      mpg  cylinders  ...  origin                   car name\n",
              "0    18.0          8  ...       1  chevrolet chevelle malibu\n",
              "1    15.0          8  ...       1          buick skylark 320\n",
              "2    18.0          8  ...       1         plymouth satellite\n",
              "3    16.0          8  ...       1              amc rebel sst\n",
              "4    17.0          8  ...       1                ford torino\n",
              "..    ...        ...  ...     ...                        ...\n",
              "393  27.0          4  ...       1            ford mustang gl\n",
              "394  44.0          4  ...       2                  vw pickup\n",
              "395  32.0          4  ...       1              dodge rampage\n",
              "396  28.0          4  ...       1                ford ranger\n",
              "397  31.0          4  ...       1                 chevy s-10\n",
              "\n",
              "[398 rows x 9 columns]"
            ]
          },
          "metadata": {
            "tags": []
          },
          "execution_count": 10
        }
      ]
    },
    {
      "cell_type": "code",
      "metadata": {
        "id": "nc3gh6z4HT6H",
        "colab_type": "code",
        "colab": {
          "base_uri": "https://localhost:8080/",
          "height": 190
        },
        "outputId": "ce40c1eb-f064-4305-b555-8f7f65752387"
      },
      "source": [
        "dataframe.dtypes"
      ],
      "execution_count": 11,
      "outputs": [
        {
          "output_type": "execute_result",
          "data": {
            "text/plain": [
              "mpg             float64\n",
              "cylinders         int64\n",
              "displacement    float64\n",
              "horsepower      float64\n",
              "weight            int64\n",
              "acceleration    float64\n",
              "model year        int64\n",
              "origin            int64\n",
              "car name         object\n",
              "dtype: object"
            ]
          },
          "metadata": {
            "tags": []
          },
          "execution_count": 11
        }
      ]
    },
    {
      "cell_type": "markdown",
      "metadata": {
        "id": "Ywrb0w9XEYeW",
        "colab_type": "text"
      },
      "source": [
        "##checking if there is any missing values"
      ]
    },
    {
      "cell_type": "code",
      "metadata": {
        "id": "5UbZUP9mDxiO",
        "colab_type": "code",
        "colab": {
          "base_uri": "https://localhost:8080/",
          "height": 190
        },
        "outputId": "b8f109d9-c4de-4cf8-bcea-ed900a3769be"
      },
      "source": [
        "dataframe.isna().sum()"
      ],
      "execution_count": 12,
      "outputs": [
        {
          "output_type": "execute_result",
          "data": {
            "text/plain": [
              "mpg             0\n",
              "cylinders       0\n",
              "displacement    0\n",
              "horsepower      6\n",
              "weight          0\n",
              "acceleration    0\n",
              "model year      0\n",
              "origin          0\n",
              "car name        0\n",
              "dtype: int64"
            ]
          },
          "metadata": {
            "tags": []
          },
          "execution_count": 12
        }
      ]
    },
    {
      "cell_type": "code",
      "metadata": {
        "id": "07-K9kiMlkC4",
        "colab_type": "code",
        "colab": {}
      },
      "source": [
        "dataframe=dataframe.dropna()"
      ],
      "execution_count": 0,
      "outputs": []
    },
    {
      "cell_type": "markdown",
      "metadata": {
        "id": "j7ZweGaiEFjm",
        "colab_type": "text"
      },
      "source": [
        "For our regression problem we are going to consider only two continous value \n",
        "\n",
        "so we are going to take horsepower and mpg.\n"
      ]
    },
    {
      "cell_type": "code",
      "metadata": {
        "id": "pwLGsuO0EE-k",
        "colab_type": "code",
        "colab": {
          "base_uri": "https://localhost:8080/",
          "height": 202
        },
        "outputId": "fbb29b01-63a9-4020-ed10-580ac009a2a1"
      },
      "source": [
        "new_df=dataframe[['mpg','horsepower']]\n",
        "new_df.head()"
      ],
      "execution_count": 14,
      "outputs": [
        {
          "output_type": "execute_result",
          "data": {
            "text/html": [
              "<div>\n",
              "<style scoped>\n",
              "    .dataframe tbody tr th:only-of-type {\n",
              "        vertical-align: middle;\n",
              "    }\n",
              "\n",
              "    .dataframe tbody tr th {\n",
              "        vertical-align: top;\n",
              "    }\n",
              "\n",
              "    .dataframe thead th {\n",
              "        text-align: right;\n",
              "    }\n",
              "</style>\n",
              "<table border=\"1\" class=\"dataframe\">\n",
              "  <thead>\n",
              "    <tr style=\"text-align: right;\">\n",
              "      <th></th>\n",
              "      <th>mpg</th>\n",
              "      <th>horsepower</th>\n",
              "    </tr>\n",
              "  </thead>\n",
              "  <tbody>\n",
              "    <tr>\n",
              "      <th>0</th>\n",
              "      <td>18.0</td>\n",
              "      <td>130.0</td>\n",
              "    </tr>\n",
              "    <tr>\n",
              "      <th>1</th>\n",
              "      <td>15.0</td>\n",
              "      <td>165.0</td>\n",
              "    </tr>\n",
              "    <tr>\n",
              "      <th>2</th>\n",
              "      <td>18.0</td>\n",
              "      <td>150.0</td>\n",
              "    </tr>\n",
              "    <tr>\n",
              "      <th>3</th>\n",
              "      <td>16.0</td>\n",
              "      <td>150.0</td>\n",
              "    </tr>\n",
              "    <tr>\n",
              "      <th>4</th>\n",
              "      <td>17.0</td>\n",
              "      <td>140.0</td>\n",
              "    </tr>\n",
              "  </tbody>\n",
              "</table>\n",
              "</div>"
            ],
            "text/plain": [
              "    mpg  horsepower\n",
              "0  18.0       130.0\n",
              "1  15.0       165.0\n",
              "2  18.0       150.0\n",
              "3  16.0       150.0\n",
              "4  17.0       140.0"
            ]
          },
          "metadata": {
            "tags": []
          },
          "execution_count": 14
        }
      ]
    },
    {
      "cell_type": "markdown",
      "metadata": {
        "id": "i0pUyw7TFHcP",
        "colab_type": "text"
      },
      "source": [
        "## Here we read dataset and we are going to convert that intop numpy arrays so that we can then convert it easily into tensors.\n"
      ]
    },
    {
      "cell_type": "code",
      "metadata": {
        "id": "6O0FZA2DFIDT",
        "colab_type": "code",
        "colab": {}
      },
      "source": [
        "MPG=new_df[['mpg']].astype('float64').values\n",
        "Horsepower=new_df[['horsepower']].astype('float64').values"
      ],
      "execution_count": 0,
      "outputs": []
    },
    {
      "cell_type": "code",
      "metadata": {
        "id": "xAN67lcJFnzY",
        "colab_type": "code",
        "colab": {
          "base_uri": "https://localhost:8080/",
          "height": 34
        },
        "outputId": "20b7e075-3df8-4645-8306-adf6aeac27a6"
      },
      "source": [
        "type(MPG)"
      ],
      "execution_count": 16,
      "outputs": [
        {
          "output_type": "execute_result",
          "data": {
            "text/plain": [
              "numpy.ndarray"
            ]
          },
          "metadata": {
            "tags": []
          },
          "execution_count": 16
        }
      ]
    },
    {
      "cell_type": "markdown",
      "metadata": {
        "id": "Sb4OMGGCE_ut",
        "colab_type": "text"
      },
      "source": [
        "# so here we are going to build the tensrflow pipelines using numpy arrays"
      ]
    },
    {
      "cell_type": "code",
      "metadata": {
        "id": "ROWhGmoeE-8e",
        "colab_type": "code",
        "colab": {}
      },
      "source": [
        "mpgTensor=tf.data.Dataset.from_tensor_slices(MPG)\n",
        "horsepowerTensor=tf.data.Dataset.from_tensor_slices(Horsepower)"
      ],
      "execution_count": 0,
      "outputs": []
    },
    {
      "cell_type": "code",
      "metadata": {
        "id": "s6DsleVGEx4o",
        "colab_type": "code",
        "colab": {
          "base_uri": "https://localhost:8080/",
          "height": 34
        },
        "outputId": "fa41e4a5-f40f-4377-cbfb-2c1979e21534"
      },
      "source": [
        "mpgTensor.element_spec"
      ],
      "execution_count": 18,
      "outputs": [
        {
          "output_type": "execute_result",
          "data": {
            "text/plain": [
              "TensorSpec(shape=(1,), dtype=tf.float64, name=None)"
            ]
          },
          "metadata": {
            "tags": []
          },
          "execution_count": 18
        }
      ]
    },
    {
      "cell_type": "code",
      "metadata": {
        "id": "wZnz1q0pGSxB",
        "colab_type": "code",
        "colab": {
          "base_uri": "https://localhost:8080/",
          "height": 34
        },
        "outputId": "97347082-d0b1-491c-ff9c-b0402eee7603"
      },
      "source": [
        "horsepowerTensor.element_spec"
      ],
      "execution_count": 19,
      "outputs": [
        {
          "output_type": "execute_result",
          "data": {
            "text/plain": [
              "TensorSpec(shape=(1,), dtype=tf.float64, name=None)"
            ]
          },
          "metadata": {
            "tags": []
          },
          "execution_count": 19
        }
      ]
    },
    {
      "cell_type": "code",
      "metadata": {
        "id": "sDBd0Fz8GXz4",
        "colab_type": "code",
        "colab": {
          "base_uri": "https://localhost:8080/",
          "height": 52
        },
        "outputId": "c7890504-c086-47fb-8654-8214bd301a46"
      },
      "source": [
        "combine_Dataset=tf.data.Dataset.zip((mpgTensor,horsepowerTensor))\n",
        "combine_Dataset.element_spec"
      ],
      "execution_count": 20,
      "outputs": [
        {
          "output_type": "execute_result",
          "data": {
            "text/plain": [
              "(TensorSpec(shape=(1,), dtype=tf.float64, name=None),\n",
              " TensorSpec(shape=(1,), dtype=tf.float64, name=None))"
            ]
          },
          "metadata": {
            "tags": []
          },
          "execution_count": 20
        }
      ]
    },
    {
      "cell_type": "markdown",
      "metadata": {
        "id": "KTP5akMqJnTF",
        "colab_type": "text"
      },
      "source": [
        "Inspecting the content of combine dataset using for loop.\n",
        "You may use inter keyword to inspect the content ."
      ]
    },
    {
      "cell_type": "code",
      "metadata": {
        "id": "PX6YdMx7JLwb",
        "colab_type": "code",
        "colab": {
          "base_uri": "https://localhost:8080/",
          "height": 104
        },
        "outputId": "a5741bd5-c002-460d-b5f1-259689a24e31"
      },
      "source": [
        "for (i,j) in combine_Dataset.take(5):\n",
        "  print(i.numpy(),j.numpy())"
      ],
      "execution_count": 21,
      "outputs": [
        {
          "output_type": "stream",
          "text": [
            "[18.] [130.]\n",
            "[15.] [165.]\n",
            "[18.] [150.]\n",
            "[16.] [150.]\n",
            "[17.] [140.]\n"
          ],
          "name": "stdout"
        }
      ]
    },
    {
      "cell_type": "code",
      "metadata": {
        "id": "Ch_waDUULSWj",
        "colab_type": "code",
        "colab": {}
      },
      "source": [
        "import tensorflow as tf\n",
        "from tensorflow.keras.layers import Dense,Flatten,Dropout\n",
        "from tensorflow.keras.optimizers import SGD\n",
        "from tensorflow.keras.layers import Input,InputLayer"
      ],
      "execution_count": 0,
      "outputs": []
    },
    {
      "cell_type": "code",
      "metadata": {
        "id": "_zSV3eJIJg3e",
        "colab_type": "code",
        "colab": {
          "base_uri": "https://localhost:8080/",
          "height": 225
        },
        "outputId": "7c9fc7da-e1fb-459b-d7b6-5513c0c9ca1e"
      },
      "source": [
        "model=tf.keras.Sequential()\n",
        "model.add(InputLayer(input_shape=(1,)))\n",
        "model.add(Dense(10,use_bias=True,input_shape=[1]))\n",
        "model.add(Dense(1,activation='linear'))\n",
        "\n",
        "optimizer = tf.keras.optimizers.SGD(learning_rate=1e-8,momentum=0.90)\n",
        "\n",
        "model.compile(optimizer=optimizer,\n",
        "              loss='mae')\n",
        "\n",
        "model.summary()"
      ],
      "execution_count": 23,
      "outputs": [
        {
          "output_type": "stream",
          "text": [
            "Model: \"sequential\"\n",
            "_________________________________________________________________\n",
            "Layer (type)                 Output Shape              Param #   \n",
            "=================================================================\n",
            "dense (Dense)                (None, 10)                20        \n",
            "_________________________________________________________________\n",
            "dense_1 (Dense)              (None, 1)                 11        \n",
            "=================================================================\n",
            "Total params: 31\n",
            "Trainable params: 31\n",
            "Non-trainable params: 0\n",
            "_________________________________________________________________\n"
          ],
          "name": "stdout"
        }
      ]
    },
    {
      "cell_type": "markdown",
      "metadata": {
        "id": "a2TRG113mHoq",
        "colab_type": "text"
      },
      "source": [
        "#we are going tyo use learning rate shedular call back so that we can find optimum learning rate through it "
      ]
    },
    {
      "cell_type": "code",
      "metadata": {
        "id": "fo2vk4anmcwr",
        "colab_type": "code",
        "colab": {}
      },
      "source": [
        "callbacks=tf.keras.callbacks.LearningRateScheduler(\n",
        "    lambda epochs: 1e-8 * 10**(epochs/20)\n",
        ")"
      ],
      "execution_count": 0,
      "outputs": []
    },
    {
      "cell_type": "markdown",
      "metadata": {
        "id": "WpM6hfhbrPzx",
        "colab_type": "text"
      },
      "source": [
        "we use learning rate shedular for finding optimum learning rate i.e. the rate learning rate at which we get a minimum loss. \n",
        "so to findout that we use lerning rate shedular."
      ]
    },
    {
      "cell_type": "code",
      "metadata": {
        "id": "-ESC0CCRM5Gu",
        "colab_type": "code",
        "colab": {
          "base_uri": "https://localhost:8080/",
          "height": 1000
        },
        "outputId": "2a5bebad-5c86-49bb-e649-f107f53670fd"
      },
      "source": [
        "history=model.fit(combine_Dataset,epochs=100,callbacks=[callbacks])"
      ],
      "execution_count": 25,
      "outputs": [
        {
          "output_type": "stream",
          "text": [
            "Epoch 1/100\n",
            "392/392 [==============================] - 1s 1ms/step - loss: 105.6795 - lr: 1.0000e-08\n",
            "Epoch 2/100\n",
            "392/392 [==============================] - 0s 1ms/step - loss: 105.5659 - lr: 1.1220e-08\n",
            "Epoch 3/100\n",
            "392/392 [==============================] - 0s 1ms/step - loss: 105.4384 - lr: 1.2589e-08\n",
            "Epoch 4/100\n",
            "392/392 [==============================] - 0s 1ms/step - loss: 105.2953 - lr: 1.4125e-08\n",
            "Epoch 5/100\n",
            "392/392 [==============================] - 0s 1ms/step - loss: 105.1348 - lr: 1.5849e-08\n",
            "Epoch 6/100\n",
            "392/392 [==============================] - 0s 1ms/step - loss: 104.9548 - lr: 1.7783e-08\n",
            "Epoch 7/100\n",
            "392/392 [==============================] - 0s 1ms/step - loss: 104.7526 - lr: 1.9953e-08\n",
            "Epoch 8/100\n",
            "392/392 [==============================] - 0s 1ms/step - loss: 104.5259 - lr: 2.2387e-08\n",
            "Epoch 9/100\n",
            "392/392 [==============================] - 0s 1ms/step - loss: 104.2715 - lr: 2.5119e-08\n",
            "Epoch 10/100\n",
            "392/392 [==============================] - 0s 1ms/step - loss: 103.9861 - lr: 2.8184e-08\n",
            "Epoch 11/100\n",
            "392/392 [==============================] - 0s 1ms/step - loss: 103.6659 - lr: 3.1623e-08\n",
            "Epoch 12/100\n",
            "392/392 [==============================] - 0s 1ms/step - loss: 103.3065 - lr: 3.5481e-08\n",
            "Epoch 13/100\n",
            "392/392 [==============================] - 0s 1ms/step - loss: 102.9032 - lr: 3.9811e-08\n",
            "Epoch 14/100\n",
            "392/392 [==============================] - 0s 1ms/step - loss: 102.4506 - lr: 4.4668e-08\n",
            "Epoch 15/100\n",
            "392/392 [==============================] - 0s 1ms/step - loss: 101.9427 - lr: 5.0119e-08\n",
            "Epoch 16/100\n",
            "392/392 [==============================] - 0s 1ms/step - loss: 101.3726 - lr: 5.6234e-08\n",
            "Epoch 17/100\n",
            "392/392 [==============================] - 0s 1ms/step - loss: 100.7325 - lr: 6.3096e-08\n",
            "Epoch 18/100\n",
            "392/392 [==============================] - 0s 1ms/step - loss: 100.0138 - lr: 7.0795e-08\n",
            "Epoch 19/100\n",
            "392/392 [==============================] - 0s 1ms/step - loss: 99.2065 - lr: 7.9433e-08\n",
            "Epoch 20/100\n",
            "392/392 [==============================] - 0s 1ms/step - loss: 98.2996 - lr: 8.9125e-08\n",
            "Epoch 21/100\n",
            "392/392 [==============================] - 0s 1ms/step - loss: 97.2803 - lr: 1.0000e-07\n",
            "Epoch 22/100\n",
            "392/392 [==============================] - 0s 1ms/step - loss: 96.1340 - lr: 1.1220e-07\n",
            "Epoch 23/100\n",
            "392/392 [==============================] - 0s 1ms/step - loss: 94.8441 - lr: 1.2589e-07\n",
            "Epoch 24/100\n",
            "392/392 [==============================] - 0s 1ms/step - loss: 93.3913 - lr: 1.4125e-07\n",
            "Epoch 25/100\n",
            "392/392 [==============================] - 0s 1ms/step - loss: 91.7533 - lr: 1.5849e-07\n",
            "Epoch 26/100\n",
            "392/392 [==============================] - 0s 1ms/step - loss: 89.9039 - lr: 1.7783e-07\n",
            "Epoch 27/100\n",
            "392/392 [==============================] - 0s 1ms/step - loss: 87.8123 - lr: 1.9953e-07\n",
            "Epoch 28/100\n",
            "392/392 [==============================] - 0s 1ms/step - loss: 85.4417 - lr: 2.2387e-07\n",
            "Epoch 29/100\n",
            "392/392 [==============================] - 0s 1ms/step - loss: 82.7475 - lr: 2.5119e-07\n",
            "Epoch 30/100\n",
            "392/392 [==============================] - 0s 1ms/step - loss: 79.6837 - lr: 2.8184e-07\n",
            "Epoch 31/100\n",
            "392/392 [==============================] - 0s 1ms/step - loss: 76.3301 - lr: 3.1623e-07\n",
            "Epoch 32/100\n",
            "392/392 [==============================] - 0s 1ms/step - loss: 72.6009 - lr: 3.5481e-07\n",
            "Epoch 33/100\n",
            "392/392 [==============================] - 0s 1ms/step - loss: 68.4592 - lr: 3.9811e-07\n",
            "Epoch 34/100\n",
            "392/392 [==============================] - 0s 1ms/step - loss: 64.4042 - lr: 4.4668e-07\n",
            "Epoch 35/100\n",
            "392/392 [==============================] - 0s 1ms/step - loss: 60.9722 - lr: 5.0119e-07\n",
            "Epoch 36/100\n",
            "392/392 [==============================] - 0s 1ms/step - loss: 58.0447 - lr: 5.6234e-07\n",
            "Epoch 37/100\n",
            "392/392 [==============================] - 0s 1ms/step - loss: 56.0303 - lr: 6.3096e-07\n",
            "Epoch 38/100\n",
            "392/392 [==============================] - 0s 1ms/step - loss: 54.6205 - lr: 7.0795e-07\n",
            "Epoch 39/100\n",
            "392/392 [==============================] - 0s 1ms/step - loss: 53.5356 - lr: 7.9433e-07\n",
            "Epoch 40/100\n",
            "392/392 [==============================] - 0s 1ms/step - loss: 52.8079 - lr: 8.9125e-07\n",
            "Epoch 41/100\n",
            "392/392 [==============================] - 0s 1ms/step - loss: 52.2162 - lr: 1.0000e-06\n",
            "Epoch 42/100\n",
            "392/392 [==============================] - 0s 1ms/step - loss: 51.7741 - lr: 1.1220e-06\n",
            "Epoch 43/100\n",
            "392/392 [==============================] - 0s 1ms/step - loss: 51.5458 - lr: 1.2589e-06\n",
            "Epoch 44/100\n",
            "392/392 [==============================] - 0s 1ms/step - loss: 51.4546 - lr: 1.4125e-06\n",
            "Epoch 45/100\n",
            "392/392 [==============================] - 0s 1ms/step - loss: 51.3901 - lr: 1.5849e-06\n",
            "Epoch 46/100\n",
            "392/392 [==============================] - 0s 1ms/step - loss: 51.3165 - lr: 1.7783e-06\n",
            "Epoch 47/100\n",
            "392/392 [==============================] - 0s 1ms/step - loss: 51.3081 - lr: 1.9953e-06\n",
            "Epoch 48/100\n",
            "392/392 [==============================] - 0s 1ms/step - loss: 51.2596 - lr: 2.2387e-06\n",
            "Epoch 49/100\n",
            "392/392 [==============================] - 0s 1ms/step - loss: 51.2847 - lr: 2.5119e-06\n",
            "Epoch 50/100\n",
            "392/392 [==============================] - 0s 1ms/step - loss: 51.2716 - lr: 2.8184e-06\n",
            "Epoch 51/100\n",
            "392/392 [==============================] - 0s 1ms/step - loss: 51.3287 - lr: 3.1623e-06\n",
            "Epoch 52/100\n",
            "392/392 [==============================] - 0s 1ms/step - loss: 51.2997 - lr: 3.5481e-06\n",
            "Epoch 53/100\n",
            "392/392 [==============================] - 0s 1ms/step - loss: 51.2210 - lr: 3.9811e-06\n",
            "Epoch 54/100\n",
            "392/392 [==============================] - 0s 1ms/step - loss: 51.1737 - lr: 4.4668e-06\n",
            "Epoch 55/100\n",
            "392/392 [==============================] - 0s 1ms/step - loss: 51.2791 - lr: 5.0119e-06\n",
            "Epoch 56/100\n",
            "392/392 [==============================] - 0s 1ms/step - loss: 51.3224 - lr: 5.6234e-06\n",
            "Epoch 57/100\n",
            "392/392 [==============================] - 0s 1ms/step - loss: 51.3406 - lr: 6.3096e-06\n",
            "Epoch 58/100\n",
            "392/392 [==============================] - 0s 1ms/step - loss: 51.2198 - lr: 7.0795e-06\n",
            "Epoch 59/100\n",
            "392/392 [==============================] - 0s 1ms/step - loss: 51.1821 - lr: 7.9433e-06\n",
            "Epoch 60/100\n",
            "392/392 [==============================] - 0s 1ms/step - loss: 51.1922 - lr: 8.9125e-06\n",
            "Epoch 61/100\n",
            "392/392 [==============================] - 0s 1ms/step - loss: 51.1495 - lr: 1.0000e-05\n",
            "Epoch 62/100\n",
            "392/392 [==============================] - 0s 1ms/step - loss: 51.0465 - lr: 1.1220e-05\n",
            "Epoch 63/100\n",
            "392/392 [==============================] - 0s 1ms/step - loss: 50.9904 - lr: 1.2589e-05\n",
            "Epoch 64/100\n",
            "392/392 [==============================] - 0s 1ms/step - loss: 51.0152 - lr: 1.4125e-05\n",
            "Epoch 65/100\n",
            "392/392 [==============================] - 1s 1ms/step - loss: 50.9687 - lr: 1.5849e-05\n",
            "Epoch 66/100\n",
            "392/392 [==============================] - 0s 1ms/step - loss: 50.8585 - lr: 1.7783e-05\n",
            "Epoch 67/100\n",
            "392/392 [==============================] - 0s 1ms/step - loss: 50.8166 - lr: 1.9953e-05\n",
            "Epoch 68/100\n",
            "392/392 [==============================] - 0s 1ms/step - loss: 50.5570 - lr: 2.2387e-05\n",
            "Epoch 69/100\n",
            "392/392 [==============================] - 0s 1ms/step - loss: 50.5218 - lr: 2.5119e-05\n",
            "Epoch 70/100\n",
            "392/392 [==============================] - 1s 1ms/step - loss: 50.2184 - lr: 2.8184e-05\n",
            "Epoch 71/100\n",
            "392/392 [==============================] - 0s 1ms/step - loss: 50.1852 - lr: 3.1623e-05\n",
            "Epoch 72/100\n",
            "392/392 [==============================] - 0s 1ms/step - loss: 49.8022 - lr: 3.5481e-05\n",
            "Epoch 73/100\n",
            "392/392 [==============================] - 0s 1ms/step - loss: 49.7125 - lr: 3.9811e-05\n",
            "Epoch 74/100\n",
            "392/392 [==============================] - 0s 1ms/step - loss: 49.7654 - lr: 4.4668e-05\n",
            "Epoch 75/100\n",
            "392/392 [==============================] - 0s 1ms/step - loss: 49.7573 - lr: 5.0119e-05\n",
            "Epoch 76/100\n",
            "392/392 [==============================] - 0s 1ms/step - loss: 49.4476 - lr: 5.6234e-05\n",
            "Epoch 77/100\n",
            "392/392 [==============================] - 0s 1ms/step - loss: 49.5142 - lr: 6.3096e-05\n",
            "Epoch 78/100\n",
            "392/392 [==============================] - 0s 1ms/step - loss: 49.3655 - lr: 7.0795e-05\n",
            "Epoch 79/100\n",
            "392/392 [==============================] - 0s 1ms/step - loss: 49.3829 - lr: 7.9433e-05\n",
            "Epoch 80/100\n",
            "392/392 [==============================] - 0s 1ms/step - loss: 49.4795 - lr: 8.9125e-05\n",
            "Epoch 81/100\n",
            "392/392 [==============================] - 0s 1ms/step - loss: 50.1484 - lr: 1.0000e-04\n",
            "Epoch 82/100\n",
            "392/392 [==============================] - 0s 1ms/step - loss: 49.7439 - lr: 1.1220e-04\n",
            "Epoch 83/100\n",
            "392/392 [==============================] - 0s 1ms/step - loss: 50.1203 - lr: 1.2589e-04\n",
            "Epoch 84/100\n",
            "392/392 [==============================] - 0s 1ms/step - loss: 50.6180 - lr: 1.4125e-04\n",
            "Epoch 85/100\n",
            "392/392 [==============================] - 0s 1ms/step - loss: 50.8934 - lr: 1.5849e-04\n",
            "Epoch 86/100\n",
            "392/392 [==============================] - 0s 1ms/step - loss: 51.3709 - lr: 1.7783e-04\n",
            "Epoch 87/100\n",
            "392/392 [==============================] - 0s 1ms/step - loss: 52.4790 - lr: 1.9953e-04\n",
            "Epoch 88/100\n",
            "392/392 [==============================] - 0s 1ms/step - loss: 53.6535 - lr: 2.2387e-04\n",
            "Epoch 89/100\n",
            "392/392 [==============================] - 0s 1ms/step - loss: 52.7632 - lr: 2.5119e-04\n",
            "Epoch 90/100\n",
            "392/392 [==============================] - 0s 1ms/step - loss: 51.1244 - lr: 2.8184e-04\n",
            "Epoch 91/100\n",
            "392/392 [==============================] - 0s 1ms/step - loss: 53.2837 - lr: 3.1623e-04\n",
            "Epoch 92/100\n",
            "392/392 [==============================] - 0s 1ms/step - loss: 53.6367 - lr: 3.5481e-04\n",
            "Epoch 93/100\n",
            "392/392 [==============================] - 0s 1ms/step - loss: 54.7913 - lr: 3.9811e-04\n",
            "Epoch 94/100\n",
            "392/392 [==============================] - 0s 1ms/step - loss: 55.8920 - lr: 4.4668e-04\n",
            "Epoch 95/100\n",
            "392/392 [==============================] - 0s 1ms/step - loss: 56.8525 - lr: 5.0119e-04\n",
            "Epoch 96/100\n",
            "392/392 [==============================] - 0s 1ms/step - loss: 60.0894 - lr: 5.6234e-04\n",
            "Epoch 97/100\n",
            "392/392 [==============================] - 0s 1ms/step - loss: 64.0341 - lr: 6.3096e-04\n",
            "Epoch 98/100\n",
            "392/392 [==============================] - 0s 1ms/step - loss: 60.7993 - lr: 7.0795e-04\n",
            "Epoch 99/100\n",
            "392/392 [==============================] - 0s 1ms/step - loss: 57.9033 - lr: 7.9433e-04\n",
            "Epoch 100/100\n",
            "392/392 [==============================] - 0s 1ms/step - loss: 63.2326 - lr: 8.9125e-04\n"
          ],
          "name": "stdout"
        }
      ]
    },
    {
      "cell_type": "code",
      "metadata": {
        "id": "k_0liiOjnVyP",
        "colab_type": "code",
        "colab": {
          "base_uri": "https://localhost:8080/",
          "height": 286
        },
        "outputId": "f557b349-620b-4ebb-d5e0-2e62b3247169"
      },
      "source": [
        "import matplotlib.pyplot as plt\n",
        "\n",
        "plt.semilogx(history.history[\"lr\"],history.history[\"loss\"])\n",
        "plt.axis([1e-8,1e-4,0,100])"
      ],
      "execution_count": 26,
      "outputs": [
        {
          "output_type": "execute_result",
          "data": {
            "text/plain": [
              "(1e-08, 0.0001, 0.0, 150.0)"
            ]
          },
          "metadata": {
            "tags": []
          },
          "execution_count": 26
        },
        {
          "output_type": "display_data",
          "data": {
            "image/png": "[encoded data removed]",
            "text/plain": [
              "<Figure size 432x288 with 1 Axes>"
            ]
          },
          "metadata": {
            "tags": [],
            "needs_background": "light"
          }
        }
      ]
    },
    {
      "cell_type": "code",
      "metadata": {
        "id": "dwLWgpD3r4vM",
        "colab_type": "code",
        "colab": {
          "base_uri": "https://localhost:8080/",
          "height": 281
        },
        "outputId": "2609d4e9-019a-41ce-e3ce-3fc6155df975"
      },
      "source": [
        "plt.plot(history.history['loss'])\n",
        "plt.title('Training mean absolute error')\n",
        "plt.show()"
      ],
      "execution_count": 34,
      "outputs": [
        {
          "output_type": "display_data",
          "data": {
            "image/png": "[encoded data removed]",
            "text/plain": [
              "<Figure size 432x288 with 1 Axes>"
            ]
          },
          "metadata": {
            "tags": [],
            "needs_background": "light"
          }
        }
      ]
    },
    {
      "cell_type": "markdown",
      "metadata": {
        "id": "QIIfBjIur6dC",
        "colab_type": "text"
      },
      "source": [
        "##we are going to choose learning rate from above semilog graph and remove learning rate shedular callback from the model.fit method."
      ]
    },
    {
      "cell_type": "code",
      "metadata": {
        "id": "1kVDbxsNob3x",
        "colab_type": "code",
        "colab": {
          "base_uri": "https://localhost:8080/",
          "height": 225
        },
        "outputId": "8a5e6050-8a63-4e4d-8722-f1bd109d8fe6"
      },
      "source": [
        "model2=tf.keras.Sequential()\n",
        "model2.add(InputLayer(input_shape=(1,)))\n",
        "model2.add(Dense(64,use_bias=True,activation='relu',input_shape=[1]))\n",
        "model2.add(Dense(32,activation='relu'))\n",
        "model2.add(Dense(1,activation='linear'))\n",
        "\n",
        "optimizer = tf.keras.optimizers.SGD(learning_rate=5e-5,momentum=0.90)\n",
        "\n",
        "model2.compile(optimizer=optimizer,\n",
        "              loss='mae',\n",
        "               metrics=['mean_absolute_error']\n",
        "               )\n",
        "\n",
        "model2.summary()"
      ],
      "execution_count": 27,
      "outputs": [
        {
          "output_type": "stream",
          "text": [
            "Model: \"sequential_1\"\n",
            "_________________________________________________________________\n",
            "Layer (type)                 Output Shape              Param #   \n",
            "=================================================================\n",
            "dense_2 (Dense)              (None, 10)                20        \n",
            "_________________________________________________________________\n",
            "dense_3 (Dense)              (None, 1)                 11        \n",
            "=================================================================\n",
            "Total params: 31\n",
            "Trainable params: 31\n",
            "Non-trainable params: 0\n",
            "_________________________________________________________________\n"
          ],
          "name": "stdout"
        }
      ]
    },
    {
      "cell_type": "code",
      "metadata": {
        "id": "a44L-0nvo0k1",
        "colab_type": "code",
        "colab": {
          "base_uri": "https://localhost:8080/",
          "height": 1000
        },
        "outputId": "357d8a97-1729-4276-9273-6f5b423179b4"
      },
      "source": [
        "history2=model2.fit(combine_Dataset,epochs=500,verbose=2)"
      ],
      "execution_count": 29,
      "outputs": [
        {
          "output_type": "stream",
          "text": [
            "Epoch 1/500\n",
            "392/392 - 1s - loss: 60.6801 - mean_absolute_error: 60.6801\n",
            "Epoch 2/500\n",
            "392/392 - 1s - loss: 49.6431 - mean_absolute_error: 49.6431\n",
            "Epoch 3/500\n",
            "392/392 - 1s - loss: 49.7570 - mean_absolute_error: 49.7570\n",
            "Epoch 4/500\n",
            "392/392 - 1s - loss: 49.8244 - mean_absolute_error: 49.8244\n",
            "Epoch 5/500\n",
            "392/392 - 1s - loss: 49.9281 - mean_absolute_error: 49.9281\n",
            "Epoch 6/500\n",
            "392/392 - 1s - loss: 49.8588 - mean_absolute_error: 49.8588\n",
            "Epoch 7/500\n",
            "392/392 - 1s - loss: 49.8021 - mean_absolute_error: 49.8021\n",
            "Epoch 8/500\n",
            "392/392 - 1s - loss: 49.8273 - mean_absolute_error: 49.8273\n",
            "Epoch 9/500\n",
            "392/392 - 1s - loss: 49.7725 - mean_absolute_error: 49.7725\n",
            "Epoch 10/500\n",
            "392/392 - 1s - loss: 49.7231 - mean_absolute_error: 49.7231\n",
            "Epoch 11/500\n",
            "392/392 - 1s - loss: 49.6781 - mean_absolute_error: 49.6781\n",
            "Epoch 12/500\n",
            "392/392 - 1s - loss: 49.6371 - mean_absolute_error: 49.6371\n",
            "Epoch 13/500\n",
            "392/392 - 1s - loss: 49.5438 - mean_absolute_error: 49.5438\n",
            "Epoch 14/500\n",
            "392/392 - 1s - loss: 49.3422 - mean_absolute_error: 49.3422\n",
            "Epoch 15/500\n",
            "392/392 - 1s - loss: 49.2923 - mean_absolute_error: 49.2923\n",
            "Epoch 16/500\n",
            "392/392 - 1s - loss: 49.2545 - mean_absolute_error: 49.2545\n",
            "Epoch 17/500\n",
            "392/392 - 1s - loss: 49.2196 - mean_absolute_error: 49.2196\n",
            "Epoch 18/500\n",
            "392/392 - 1s - loss: 49.0668 - mean_absolute_error: 49.0668\n",
            "Epoch 19/500\n",
            "392/392 - 1s - loss: 49.2803 - mean_absolute_error: 49.2803\n",
            "Epoch 20/500\n",
            "392/392 - 1s - loss: 49.0984 - mean_absolute_error: 49.0984\n",
            "Epoch 21/500\n",
            "392/392 - 1s - loss: 48.8966 - mean_absolute_error: 48.8966\n",
            "Epoch 22/500\n",
            "392/392 - 1s - loss: 48.9249 - mean_absolute_error: 48.9249\n",
            "Epoch 23/500\n",
            "392/392 - 1s - loss: 48.7432 - mean_absolute_error: 48.7432\n",
            "Epoch 24/500\n",
            "392/392 - 1s - loss: 48.7818 - mean_absolute_error: 48.7818\n",
            "Epoch 25/500\n",
            "392/392 - 1s - loss: 48.8307 - mean_absolute_error: 48.8307\n",
            "Epoch 26/500\n",
            "392/392 - 1s - loss: 48.6673 - mean_absolute_error: 48.6673\n",
            "Epoch 27/500\n",
            "392/392 - 1s - loss: 48.5622 - mean_absolute_error: 48.5622\n",
            "Epoch 28/500\n",
            "392/392 - 1s - loss: 48.4515 - mean_absolute_error: 48.4515\n",
            "Epoch 29/500\n",
            "392/392 - 1s - loss: 48.3365 - mean_absolute_error: 48.3365\n",
            "Epoch 30/500\n",
            "392/392 - 1s - loss: 48.4708 - mean_absolute_error: 48.4708\n",
            "Epoch 31/500\n",
            "392/392 - 1s - loss: 48.1766 - mean_absolute_error: 48.1766\n",
            "Epoch 32/500\n",
            "392/392 - 1s - loss: 48.3200 - mean_absolute_error: 48.3200\n",
            "Epoch 33/500\n",
            "392/392 - 1s - loss: 48.0876 - mean_absolute_error: 48.0876\n",
            "Epoch 34/500\n",
            "392/392 - 1s - loss: 48.1454 - mean_absolute_error: 48.1454\n",
            "Epoch 35/500\n",
            "392/392 - 1s - loss: 48.0043 - mean_absolute_error: 48.0043\n",
            "Epoch 36/500\n",
            "392/392 - 1s - loss: 47.9434 - mean_absolute_error: 47.9434\n",
            "Epoch 37/500\n",
            "392/392 - 1s - loss: 47.8818 - mean_absolute_error: 47.8818\n",
            "Epoch 38/500\n",
            "392/392 - 1s - loss: 47.7717 - mean_absolute_error: 47.7717\n",
            "Epoch 39/500\n",
            "392/392 - 1s - loss: 47.5388 - mean_absolute_error: 47.5388\n",
            "Epoch 40/500\n",
            "392/392 - 1s - loss: 47.5017 - mean_absolute_error: 47.5017\n",
            "Epoch 41/500\n",
            "392/392 - 1s - loss: 47.5112 - mean_absolute_error: 47.5112\n",
            "Epoch 42/500\n",
            "392/392 - 1s - loss: 47.6060 - mean_absolute_error: 47.6060\n",
            "Epoch 43/500\n",
            "392/392 - 1s - loss: 47.2823 - mean_absolute_error: 47.2823\n",
            "Epoch 44/500\n",
            "392/392 - 1s - loss: 47.0818 - mean_absolute_error: 47.0818\n",
            "Epoch 45/500\n",
            "392/392 - 1s - loss: 47.0397 - mean_absolute_error: 47.0397\n",
            "Epoch 46/500\n",
            "392/392 - 1s - loss: 46.7724 - mean_absolute_error: 46.7724\n",
            "Epoch 47/500\n",
            "392/392 - 1s - loss: 46.9089 - mean_absolute_error: 46.9089\n",
            "Epoch 48/500\n",
            "392/392 - 1s - loss: 46.8397 - mean_absolute_error: 46.8397\n",
            "Epoch 49/500\n",
            "392/392 - 1s - loss: 46.8162 - mean_absolute_error: 46.8162\n",
            "Epoch 50/500\n",
            "392/392 - 1s - loss: 46.4898 - mean_absolute_error: 46.4898\n",
            "Epoch 51/500\n",
            "392/392 - 1s - loss: 46.5479 - mean_absolute_error: 46.5479\n",
            "Epoch 52/500\n",
            "392/392 - 1s - loss: 46.6481 - mean_absolute_error: 46.6481\n",
            "Epoch 53/500\n",
            "392/392 - 1s - loss: 46.3233 - mean_absolute_error: 46.3233\n",
            "Epoch 54/500\n",
            "392/392 - 1s - loss: 46.3081 - mean_absolute_error: 46.3081\n",
            "Epoch 55/500\n",
            "392/392 - 1s - loss: 46.1431 - mean_absolute_error: 46.1431\n",
            "Epoch 56/500\n",
            "392/392 - 1s - loss: 46.2833 - mean_absolute_error: 46.2833\n",
            "Epoch 57/500\n",
            "392/392 - 1s - loss: 46.1359 - mean_absolute_error: 46.1359\n",
            "Epoch 58/500\n",
            "392/392 - 1s - loss: 45.9165 - mean_absolute_error: 45.9165\n",
            "Epoch 59/500\n",
            "392/392 - 1s - loss: 45.8183 - mean_absolute_error: 45.8183\n",
            "Epoch 60/500\n",
            "392/392 - 1s - loss: 45.7528 - mean_absolute_error: 45.7528\n",
            "Epoch 61/500\n",
            "392/392 - 1s - loss: 45.6183 - mean_absolute_error: 45.6183\n",
            "Epoch 62/500\n",
            "392/392 - 1s - loss: 45.5919 - mean_absolute_error: 45.5919\n",
            "Epoch 63/500\n",
            "392/392 - 1s - loss: 45.0834 - mean_absolute_error: 45.0834\n",
            "Epoch 64/500\n",
            "392/392 - 1s - loss: 45.2438 - mean_absolute_error: 45.2438\n",
            "Epoch 65/500\n",
            "392/392 - 1s - loss: 45.0315 - mean_absolute_error: 45.0315\n",
            "Epoch 66/500\n",
            "392/392 - 1s - loss: 44.6152 - mean_absolute_error: 44.6152\n",
            "Epoch 67/500\n",
            "392/392 - 1s - loss: 44.7728 - mean_absolute_error: 44.7728\n",
            "Epoch 68/500\n",
            "392/392 - 1s - loss: 44.7568 - mean_absolute_error: 44.7568\n",
            "Epoch 69/500\n",
            "392/392 - 1s - loss: 44.3722 - mean_absolute_error: 44.3722\n",
            "Epoch 70/500\n",
            "392/392 - 1s - loss: 44.0140 - mean_absolute_error: 44.0140\n",
            "Epoch 71/500\n",
            "392/392 - 1s - loss: 44.3995 - mean_absolute_error: 44.3995\n",
            "Epoch 72/500\n",
            "392/392 - 1s - loss: 43.9325 - mean_absolute_error: 43.9325\n",
            "Epoch 73/500\n",
            "392/392 - 1s - loss: 43.7201 - mean_absolute_error: 43.7201\n",
            "Epoch 74/500\n",
            "392/392 - 1s - loss: 43.9594 - mean_absolute_error: 43.9594\n",
            "Epoch 75/500\n",
            "392/392 - 1s - loss: 43.3878 - mean_absolute_error: 43.3878\n",
            "Epoch 76/500\n",
            "392/392 - 1s - loss: 43.6870 - mean_absolute_error: 43.6870\n",
            "Epoch 77/500\n",
            "392/392 - 1s - loss: 43.4179 - mean_absolute_error: 43.4179\n",
            "Epoch 78/500\n",
            "392/392 - 1s - loss: 43.2298 - mean_absolute_error: 43.2298\n",
            "Epoch 79/500\n",
            "392/392 - 1s - loss: 43.1012 - mean_absolute_error: 43.1012\n",
            "Epoch 80/500\n",
            "392/392 - 1s - loss: 42.7938 - mean_absolute_error: 42.7938\n",
            "Epoch 81/500\n",
            "392/392 - 1s - loss: 42.8887 - mean_absolute_error: 42.8887\n",
            "Epoch 82/500\n",
            "392/392 - 1s - loss: 43.0325 - mean_absolute_error: 43.0325\n",
            "Epoch 83/500\n",
            "392/392 - 1s - loss: 42.4327 - mean_absolute_error: 42.4327\n",
            "Epoch 84/500\n",
            "392/392 - 1s - loss: 42.3286 - mean_absolute_error: 42.3286\n",
            "Epoch 85/500\n",
            "392/392 - 1s - loss: 42.2334 - mean_absolute_error: 42.2334\n",
            "Epoch 86/500\n",
            "392/392 - 1s - loss: 41.3475 - mean_absolute_error: 41.3475\n",
            "Epoch 87/500\n",
            "392/392 - 1s - loss: 41.6197 - mean_absolute_error: 41.6197\n",
            "Epoch 88/500\n",
            "392/392 - 1s - loss: 40.7537 - mean_absolute_error: 40.7537\n",
            "Epoch 89/500\n",
            "392/392 - 1s - loss: 41.2587 - mean_absolute_error: 41.2587\n",
            "Epoch 90/500\n",
            "392/392 - 1s - loss: 40.6935 - mean_absolute_error: 40.6935\n",
            "Epoch 91/500\n",
            "392/392 - 1s - loss: 40.6406 - mean_absolute_error: 40.6406\n",
            "Epoch 92/500\n",
            "392/392 - 1s - loss: 40.0475 - mean_absolute_error: 40.0475\n",
            "Epoch 93/500\n",
            "392/392 - 1s - loss: 39.4597 - mean_absolute_error: 39.4597\n",
            "Epoch 94/500\n",
            "392/392 - 1s - loss: 39.9087 - mean_absolute_error: 39.9087\n",
            "Epoch 95/500\n",
            "392/392 - 1s - loss: 39.6928 - mean_absolute_error: 39.6928\n",
            "Epoch 96/500\n",
            "392/392 - 1s - loss: 38.9413 - mean_absolute_error: 38.9413\n",
            "Epoch 97/500\n",
            "392/392 - 1s - loss: 38.3673 - mean_absolute_error: 38.3673\n",
            "Epoch 98/500\n",
            "392/392 - 1s - loss: 37.5904 - mean_absolute_error: 37.5904\n",
            "Epoch 99/500\n",
            "392/392 - 1s - loss: 38.4366 - mean_absolute_error: 38.4366\n",
            "Epoch 100/500\n",
            "392/392 - 1s - loss: 37.5059 - mean_absolute_error: 37.5059\n",
            "Epoch 101/500\n",
            "392/392 - 1s - loss: 37.6073 - mean_absolute_error: 37.6073\n",
            "Epoch 102/500\n",
            "392/392 - 1s - loss: 37.4069 - mean_absolute_error: 37.4069\n",
            "Epoch 103/500\n",
            "392/392 - 1s - loss: 37.3591 - mean_absolute_error: 37.3591\n",
            "Epoch 104/500\n",
            "392/392 - 1s - loss: 36.3266 - mean_absolute_error: 36.3266\n",
            "Epoch 105/500\n",
            "392/392 - 1s - loss: 35.6789 - mean_absolute_error: 35.6789\n",
            "Epoch 106/500\n",
            "392/392 - 1s - loss: 34.5663 - mean_absolute_error: 34.5663\n",
            "Epoch 107/500\n",
            "392/392 - 1s - loss: 34.2303 - mean_absolute_error: 34.2303\n",
            "Epoch 108/500\n",
            "392/392 - 1s - loss: 37.7613 - mean_absolute_error: 37.7613\n",
            "Epoch 109/500\n",
            "392/392 - 1s - loss: 35.0295 - mean_absolute_error: 35.0295\n",
            "Epoch 110/500\n",
            "392/392 - 0s - loss: 31.9876 - mean_absolute_error: 31.9876\n",
            "Epoch 111/500\n",
            "392/392 - 1s - loss: 32.6204 - mean_absolute_error: 32.6204\n",
            "Epoch 112/500\n",
            "392/392 - 1s - loss: 31.9844 - mean_absolute_error: 31.9844\n",
            "Epoch 113/500\n",
            "392/392 - 1s - loss: 35.4025 - mean_absolute_error: 35.4025\n",
            "Epoch 114/500\n",
            "392/392 - 1s - loss: 31.2436 - mean_absolute_error: 31.2436\n",
            "Epoch 115/500\n",
            "392/392 - 1s - loss: 31.1277 - mean_absolute_error: 31.1277\n",
            "Epoch 116/500\n",
            "392/392 - 1s - loss: 31.7646 - mean_absolute_error: 31.7646\n",
            "Epoch 117/500\n",
            "392/392 - 1s - loss: 28.6135 - mean_absolute_error: 28.6135\n",
            "Epoch 118/500\n",
            "392/392 - 1s - loss: 30.2243 - mean_absolute_error: 30.2243\n",
            "Epoch 119/500\n",
            "392/392 - 1s - loss: 28.8210 - mean_absolute_error: 28.8210\n",
            "Epoch 120/500\n",
            "392/392 - 1s - loss: 28.7856 - mean_absolute_error: 28.7856\n",
            "Epoch 121/500\n",
            "392/392 - 1s - loss: 28.2163 - mean_absolute_error: 28.2163\n",
            "Epoch 122/500\n",
            "392/392 - 1s - loss: 28.2294 - mean_absolute_error: 28.2294\n",
            "Epoch 123/500\n",
            "392/392 - 1s - loss: 28.2782 - mean_absolute_error: 28.2782\n",
            "Epoch 124/500\n",
            "392/392 - 1s - loss: 28.2387 - mean_absolute_error: 28.2387\n",
            "Epoch 125/500\n",
            "392/392 - 1s - loss: 27.4064 - mean_absolute_error: 27.4064\n",
            "Epoch 126/500\n",
            "392/392 - 1s - loss: 27.0293 - mean_absolute_error: 27.0293\n",
            "Epoch 127/500\n",
            "392/392 - 1s - loss: 28.2864 - mean_absolute_error: 28.2864\n",
            "Epoch 128/500\n",
            "392/392 - 1s - loss: 26.3704 - mean_absolute_error: 26.3704\n",
            "Epoch 129/500\n",
            "392/392 - 1s - loss: 26.1531 - mean_absolute_error: 26.1531\n",
            "Epoch 130/500\n",
            "392/392 - 1s - loss: 25.9092 - mean_absolute_error: 25.9092\n",
            "Epoch 131/500\n",
            "392/392 - 1s - loss: 25.5986 - mean_absolute_error: 25.5986\n",
            "Epoch 132/500\n",
            "392/392 - 1s - loss: 25.4434 - mean_absolute_error: 25.4434\n",
            "Epoch 133/500\n",
            "392/392 - 1s - loss: 26.6263 - mean_absolute_error: 26.6263\n",
            "Epoch 134/500\n",
            "392/392 - 1s - loss: 25.3482 - mean_absolute_error: 25.3482\n",
            "Epoch 135/500\n",
            "392/392 - 1s - loss: 25.6235 - mean_absolute_error: 25.6235\n",
            "Epoch 136/500\n",
            "392/392 - 1s - loss: 28.4726 - mean_absolute_error: 28.4726\n",
            "Epoch 137/500\n",
            "392/392 - 1s - loss: 25.0610 - mean_absolute_error: 25.0610\n",
            "Epoch 138/500\n",
            "392/392 - 1s - loss: 24.1324 - mean_absolute_error: 24.1324\n",
            "Epoch 139/500\n",
            "392/392 - 1s - loss: 25.6179 - mean_absolute_error: 25.6179\n",
            "Epoch 140/500\n",
            "392/392 - 1s - loss: 24.4975 - mean_absolute_error: 24.4975\n",
            "Epoch 141/500\n",
            "392/392 - 1s - loss: 26.0064 - mean_absolute_error: 26.0064\n",
            "Epoch 142/500\n",
            "392/392 - 1s - loss: 25.4573 - mean_absolute_error: 25.4573\n",
            "Epoch 143/500\n",
            "392/392 - 1s - loss: 26.0072 - mean_absolute_error: 26.0072\n",
            "Epoch 144/500\n",
            "392/392 - 1s - loss: 24.1829 - mean_absolute_error: 24.1829\n",
            "Epoch 145/500\n",
            "392/392 - 1s - loss: 27.1004 - mean_absolute_error: 27.1004\n",
            "Epoch 146/500\n",
            "392/392 - 1s - loss: 25.8326 - mean_absolute_error: 25.8326\n",
            "Epoch 147/500\n",
            "392/392 - 1s - loss: 25.6433 - mean_absolute_error: 25.6433\n",
            "Epoch 148/500\n",
            "392/392 - 1s - loss: 25.5790 - mean_absolute_error: 25.5790\n",
            "Epoch 149/500\n",
            "392/392 - 1s - loss: 23.9412 - mean_absolute_error: 23.9412\n",
            "Epoch 150/500\n",
            "392/392 - 1s - loss: 23.8825 - mean_absolute_error: 23.8825\n",
            "Epoch 151/500\n",
            "392/392 - 1s - loss: 25.3286 - mean_absolute_error: 25.3286\n",
            "Epoch 152/500\n",
            "392/392 - 1s - loss: 23.3979 - mean_absolute_error: 23.3979\n",
            "Epoch 153/500\n",
            "392/392 - 1s - loss: 23.4481 - mean_absolute_error: 23.4481\n",
            "Epoch 154/500\n",
            "392/392 - 1s - loss: 25.4596 - mean_absolute_error: 25.4596\n",
            "Epoch 155/500\n",
            "392/392 - 1s - loss: 24.9251 - mean_absolute_error: 24.9251\n",
            "Epoch 156/500\n",
            "392/392 - 1s - loss: 26.4181 - mean_absolute_error: 26.4181\n",
            "Epoch 157/500\n",
            "392/392 - 1s - loss: 23.5960 - mean_absolute_error: 23.5960\n",
            "Epoch 158/500\n",
            "392/392 - 1s - loss: 22.2343 - mean_absolute_error: 22.2343\n",
            "Epoch 159/500\n",
            "392/392 - 1s - loss: 25.1917 - mean_absolute_error: 25.1917\n",
            "Epoch 160/500\n",
            "392/392 - 1s - loss: 23.6671 - mean_absolute_error: 23.6671\n",
            "Epoch 161/500\n",
            "392/392 - 1s - loss: 23.0264 - mean_absolute_error: 23.0264\n",
            "Epoch 162/500\n",
            "392/392 - 1s - loss: 24.3991 - mean_absolute_error: 24.3991\n",
            "Epoch 163/500\n",
            "392/392 - 1s - loss: 23.2475 - mean_absolute_error: 23.2475\n",
            "Epoch 164/500\n",
            "392/392 - 1s - loss: 22.7037 - mean_absolute_error: 22.7037\n",
            "Epoch 165/500\n",
            "392/392 - 1s - loss: 23.0523 - mean_absolute_error: 23.0523\n",
            "Epoch 166/500\n",
            "392/392 - 1s - loss: 22.9590 - mean_absolute_error: 22.9590\n",
            "Epoch 167/500\n",
            "392/392 - 1s - loss: 22.9427 - mean_absolute_error: 22.9427\n",
            "Epoch 168/500\n",
            "392/392 - 1s - loss: 25.0193 - mean_absolute_error: 25.0193\n",
            "Epoch 169/500\n",
            "392/392 - 1s - loss: 24.1759 - mean_absolute_error: 24.1759\n",
            "Epoch 170/500\n",
            "392/392 - 1s - loss: 22.3232 - mean_absolute_error: 22.3232\n",
            "Epoch 171/500\n",
            "392/392 - 1s - loss: 24.0886 - mean_absolute_error: 24.0886\n",
            "Epoch 172/500\n",
            "392/392 - 1s - loss: 21.3736 - mean_absolute_error: 21.3736\n",
            "Epoch 173/500\n",
            "392/392 - 1s - loss: 23.7664 - mean_absolute_error: 23.7664\n",
            "Epoch 174/500\n",
            "392/392 - 1s - loss: 23.5358 - mean_absolute_error: 23.5358\n",
            "Epoch 175/500\n",
            "392/392 - 1s - loss: 23.5735 - mean_absolute_error: 23.5735\n",
            "Epoch 176/500\n",
            "392/392 - 0s - loss: 23.4921 - mean_absolute_error: 23.4921\n",
            "Epoch 177/500\n",
            "392/392 - 1s - loss: 23.4763 - mean_absolute_error: 23.4763\n",
            "Epoch 178/500\n",
            "392/392 - 1s - loss: 22.8413 - mean_absolute_error: 22.8413\n",
            "Epoch 179/500\n",
            "392/392 - 1s - loss: 23.3923 - mean_absolute_error: 23.3923\n",
            "Epoch 180/500\n",
            "392/392 - 1s - loss: 23.6692 - mean_absolute_error: 23.6692\n",
            "Epoch 181/500\n",
            "392/392 - 1s - loss: 23.4618 - mean_absolute_error: 23.4618\n",
            "Epoch 182/500\n",
            "392/392 - 1s - loss: 23.3055 - mean_absolute_error: 23.3055\n",
            "Epoch 183/500\n",
            "392/392 - 1s - loss: 23.1694 - mean_absolute_error: 23.1694\n",
            "Epoch 184/500\n",
            "392/392 - 1s - loss: 23.1294 - mean_absolute_error: 23.1294\n",
            "Epoch 185/500\n",
            "392/392 - 1s - loss: 24.0105 - mean_absolute_error: 24.0105\n",
            "Epoch 186/500\n",
            "392/392 - 1s - loss: 23.3334 - mean_absolute_error: 23.3334\n",
            "Epoch 187/500\n",
            "392/392 - 1s - loss: 23.3884 - mean_absolute_error: 23.3884\n",
            "Epoch 188/500\n",
            "392/392 - 1s - loss: 22.3851 - mean_absolute_error: 22.3851\n",
            "Epoch 189/500\n",
            "392/392 - 1s - loss: 22.8738 - mean_absolute_error: 22.8738\n",
            "Epoch 190/500\n",
            "392/392 - 1s - loss: 22.8280 - mean_absolute_error: 22.8280\n",
            "Epoch 191/500\n",
            "392/392 - 1s - loss: 22.5165 - mean_absolute_error: 22.5165\n",
            "Epoch 192/500\n",
            "392/392 - 1s - loss: 23.0664 - mean_absolute_error: 23.0664\n",
            "Epoch 193/500\n",
            "392/392 - 1s - loss: 23.3501 - mean_absolute_error: 23.3501\n",
            "Epoch 194/500\n",
            "392/392 - 1s - loss: 23.4243 - mean_absolute_error: 23.4243\n",
            "Epoch 195/500\n",
            "392/392 - 1s - loss: 23.3644 - mean_absolute_error: 23.3644\n",
            "Epoch 196/500\n",
            "392/392 - 1s - loss: 22.6321 - mean_absolute_error: 22.6321\n",
            "Epoch 197/500\n",
            "392/392 - 1s - loss: 22.5912 - mean_absolute_error: 22.5912\n",
            "Epoch 198/500\n",
            "392/392 - 1s - loss: 22.5517 - mean_absolute_error: 22.5517\n",
            "Epoch 199/500\n",
            "392/392 - 1s - loss: 22.5135 - mean_absolute_error: 22.5135\n",
            "Epoch 200/500\n",
            "392/392 - 1s - loss: 22.4766 - mean_absolute_error: 22.4766\n",
            "Epoch 201/500\n",
            "392/392 - 1s - loss: 22.4410 - mean_absolute_error: 22.4410\n",
            "Epoch 202/500\n",
            "392/392 - 1s - loss: 22.4064 - mean_absolute_error: 22.4064\n",
            "Epoch 203/500\n",
            "392/392 - 1s - loss: 22.3731 - mean_absolute_error: 22.3731\n",
            "Epoch 204/500\n",
            "392/392 - 1s - loss: 22.3408 - mean_absolute_error: 22.3408\n",
            "Epoch 205/500\n",
            "392/392 - 1s - loss: 22.3096 - mean_absolute_error: 22.3096\n",
            "Epoch 206/500\n",
            "392/392 - 1s - loss: 22.2794 - mean_absolute_error: 22.2794\n",
            "Epoch 207/500\n",
            "392/392 - 1s - loss: 22.2501 - mean_absolute_error: 22.2501\n",
            "Epoch 208/500\n",
            "392/392 - 1s - loss: 22.2567 - mean_absolute_error: 22.2567\n",
            "Epoch 209/500\n",
            "392/392 - 0s - loss: 21.9552 - mean_absolute_error: 21.9552\n",
            "Epoch 210/500\n",
            "392/392 - 1s - loss: 22.8342 - mean_absolute_error: 22.8342\n",
            "Epoch 211/500\n",
            "392/392 - 1s - loss: 23.2032 - mean_absolute_error: 23.2032\n",
            "Epoch 212/500\n",
            "392/392 - 1s - loss: 23.6739 - mean_absolute_error: 23.6739\n",
            "Epoch 213/500\n",
            "392/392 - 1s - loss: 22.8922 - mean_absolute_error: 22.8922\n",
            "Epoch 214/500\n",
            "392/392 - 1s - loss: 22.8757 - mean_absolute_error: 22.8757\n",
            "Epoch 215/500\n",
            "392/392 - 1s - loss: 22.3260 - mean_absolute_error: 22.3260\n",
            "Epoch 216/500\n",
            "392/392 - 1s - loss: 22.7182 - mean_absolute_error: 22.7182\n",
            "Epoch 217/500\n",
            "392/392 - 1s - loss: 22.0181 - mean_absolute_error: 22.0181\n",
            "Epoch 218/500\n",
            "392/392 - 1s - loss: 22.4796 - mean_absolute_error: 22.4796\n",
            "Epoch 219/500\n",
            "392/392 - 1s - loss: 22.2426 - mean_absolute_error: 22.2426\n",
            "Epoch 220/500\n",
            "392/392 - 1s - loss: 21.4293 - mean_absolute_error: 21.4293\n",
            "Epoch 221/500\n",
            "392/392 - 1s - loss: 22.1809 - mean_absolute_error: 22.1809\n",
            "Epoch 222/500\n",
            "392/392 - 1s - loss: 22.4978 - mean_absolute_error: 22.4978\n",
            "Epoch 223/500\n",
            "392/392 - 1s - loss: 22.4682 - mean_absolute_error: 22.4682\n",
            "Epoch 224/500\n",
            "392/392 - 1s - loss: 21.8238 - mean_absolute_error: 21.8238\n",
            "Epoch 225/500\n",
            "392/392 - 1s - loss: 22.4105 - mean_absolute_error: 22.4105\n",
            "Epoch 226/500\n",
            "392/392 - 1s - loss: 21.7836 - mean_absolute_error: 21.7836\n",
            "Epoch 227/500\n",
            "392/392 - 1s - loss: 21.6859 - mean_absolute_error: 21.6859\n",
            "Epoch 228/500\n",
            "392/392 - 1s - loss: 22.2397 - mean_absolute_error: 22.2397\n",
            "Epoch 229/500\n",
            "392/392 - 1s - loss: 22.5548 - mean_absolute_error: 22.5548\n",
            "Epoch 230/500\n",
            "392/392 - 1s - loss: 22.0986 - mean_absolute_error: 22.0986\n",
            "Epoch 231/500\n",
            "392/392 - 0s - loss: 22.7372 - mean_absolute_error: 22.7372\n",
            "Epoch 232/500\n",
            "392/392 - 1s - loss: 21.6424 - mean_absolute_error: 21.6424\n",
            "Epoch 233/500\n",
            "392/392 - 1s - loss: 21.8077 - mean_absolute_error: 21.8077\n",
            "Epoch 234/500\n",
            "392/392 - 1s - loss: 22.3897 - mean_absolute_error: 22.3897\n",
            "Epoch 235/500\n",
            "392/392 - 0s - loss: 21.7140 - mean_absolute_error: 21.7140\n",
            "Epoch 236/500\n",
            "392/392 - 1s - loss: 21.0851 - mean_absolute_error: 21.0851\n",
            "Epoch 237/500\n",
            "392/392 - 1s - loss: 22.6619 - mean_absolute_error: 22.6619\n",
            "Epoch 238/500\n",
            "392/392 - 1s - loss: 22.4559 - mean_absolute_error: 22.4559\n",
            "Epoch 239/500\n",
            "392/392 - 1s - loss: 22.0097 - mean_absolute_error: 22.0097\n",
            "Epoch 240/500\n",
            "392/392 - 1s - loss: 22.5579 - mean_absolute_error: 22.5579\n",
            "Epoch 241/500\n",
            "392/392 - 1s - loss: 21.9457 - mean_absolute_error: 21.9457\n",
            "Epoch 242/500\n",
            "392/392 - 1s - loss: 21.7740 - mean_absolute_error: 21.7740\n",
            "Epoch 243/500\n",
            "392/392 - 1s - loss: 21.0388 - mean_absolute_error: 21.0388\n",
            "Epoch 244/500\n",
            "392/392 - 1s - loss: 21.9081 - mean_absolute_error: 21.9081\n",
            "Epoch 245/500\n",
            "392/392 - 1s - loss: 21.9148 - mean_absolute_error: 21.9148\n",
            "Epoch 246/500\n",
            "392/392 - 1s - loss: 23.2610 - mean_absolute_error: 23.2610\n",
            "Epoch 247/500\n",
            "392/392 - 1s - loss: 22.3870 - mean_absolute_error: 22.3870\n",
            "Epoch 248/500\n",
            "392/392 - 1s - loss: 22.3247 - mean_absolute_error: 22.3247\n",
            "Epoch 249/500\n",
            "392/392 - 1s - loss: 22.2991 - mean_absolute_error: 22.2991\n",
            "Epoch 250/500\n",
            "392/392 - 1s - loss: 21.4826 - mean_absolute_error: 21.4826\n",
            "Epoch 251/500\n",
            "392/392 - 1s - loss: 21.3671 - mean_absolute_error: 21.3671\n",
            "Epoch 252/500\n",
            "392/392 - 1s - loss: 21.4568 - mean_absolute_error: 21.4568\n",
            "Epoch 253/500\n",
            "392/392 - 1s - loss: 21.8416 - mean_absolute_error: 21.8416\n",
            "Epoch 254/500\n",
            "392/392 - 1s - loss: 21.5139 - mean_absolute_error: 21.5139\n",
            "Epoch 255/500\n",
            "392/392 - 1s - loss: 22.4038 - mean_absolute_error: 22.4038\n",
            "Epoch 256/500\n",
            "392/392 - 1s - loss: 21.2281 - mean_absolute_error: 21.2281\n",
            "Epoch 257/500\n",
            "392/392 - 1s - loss: 22.9558 - mean_absolute_error: 22.9558\n",
            "Epoch 258/500\n",
            "392/392 - 1s - loss: 21.7813 - mean_absolute_error: 21.7813\n",
            "Epoch 259/500\n",
            "392/392 - 1s - loss: 21.6829 - mean_absolute_error: 21.6829\n",
            "Epoch 260/500\n",
            "392/392 - 1s - loss: 21.4980 - mean_absolute_error: 21.4980\n",
            "Epoch 261/500\n",
            "392/392 - 1s - loss: 21.7532 - mean_absolute_error: 21.7532\n",
            "Epoch 262/500\n",
            "392/392 - 1s - loss: 21.2558 - mean_absolute_error: 21.2558\n",
            "Epoch 263/500\n",
            "392/392 - 1s - loss: 21.4619 - mean_absolute_error: 21.4619\n",
            "Epoch 264/500\n",
            "392/392 - 1s - loss: 21.6906 - mean_absolute_error: 21.6906\n",
            "Epoch 265/500\n",
            "392/392 - 1s - loss: 21.5024 - mean_absolute_error: 21.5024\n",
            "Epoch 266/500\n",
            "392/392 - 1s - loss: 21.3813 - mean_absolute_error: 21.3813\n",
            "Epoch 267/500\n",
            "392/392 - 1s - loss: 20.8277 - mean_absolute_error: 20.8277\n",
            "Epoch 268/500\n",
            "392/392 - 0s - loss: 21.2005 - mean_absolute_error: 21.2005\n",
            "Epoch 269/500\n",
            "392/392 - 1s - loss: 21.3084 - mean_absolute_error: 21.3084\n",
            "Epoch 270/500\n",
            "392/392 - 1s - loss: 21.5153 - mean_absolute_error: 21.5153\n",
            "Epoch 271/500\n",
            "392/392 - 1s - loss: 21.1481 - mean_absolute_error: 21.1481\n",
            "Epoch 272/500\n",
            "392/392 - 0s - loss: 22.4285 - mean_absolute_error: 22.4285\n",
            "Epoch 273/500\n",
            "392/392 - 1s - loss: 22.0623 - mean_absolute_error: 22.0623\n",
            "Epoch 274/500\n",
            "392/392 - 1s - loss: 20.7048 - mean_absolute_error: 20.7048\n",
            "Epoch 275/500\n",
            "392/392 - 1s - loss: 21.6747 - mean_absolute_error: 21.6747\n",
            "Epoch 276/500\n",
            "392/392 - 1s - loss: 20.8275 - mean_absolute_error: 20.8275\n",
            "Epoch 277/500\n",
            "392/392 - 1s - loss: 20.9995 - mean_absolute_error: 20.9995\n",
            "Epoch 278/500\n",
            "392/392 - 1s - loss: 22.0748 - mean_absolute_error: 22.0748\n",
            "Epoch 279/500\n",
            "392/392 - 1s - loss: 20.7853 - mean_absolute_error: 20.7853\n",
            "Epoch 280/500\n",
            "392/392 - 1s - loss: 21.9949 - mean_absolute_error: 21.9949\n",
            "Epoch 281/500\n",
            "392/392 - 1s - loss: 21.1683 - mean_absolute_error: 21.1683\n",
            "Epoch 282/500\n",
            "392/392 - 1s - loss: 21.3075 - mean_absolute_error: 21.3075\n",
            "Epoch 283/500\n",
            "392/392 - 1s - loss: 21.8987 - mean_absolute_error: 21.8987\n",
            "Epoch 284/500\n",
            "392/392 - 0s - loss: 21.3732 - mean_absolute_error: 21.3732\n",
            "Epoch 285/500\n",
            "392/392 - 1s - loss: 21.3868 - mean_absolute_error: 21.3868\n",
            "Epoch 286/500\n",
            "392/392 - 0s - loss: 20.8244 - mean_absolute_error: 20.8244\n",
            "Epoch 287/500\n",
            "392/392 - 1s - loss: 21.1304 - mean_absolute_error: 21.1304\n",
            "Epoch 288/500\n",
            "392/392 - 1s - loss: 21.3513 - mean_absolute_error: 21.3513\n",
            "Epoch 289/500\n",
            "392/392 - 1s - loss: 20.8203 - mean_absolute_error: 20.8203\n",
            "Epoch 290/500\n",
            "392/392 - 1s - loss: 20.9336 - mean_absolute_error: 20.9336\n",
            "Epoch 291/500\n",
            "392/392 - 1s - loss: 22.1514 - mean_absolute_error: 22.1514\n",
            "Epoch 292/500\n",
            "392/392 - 1s - loss: 21.2764 - mean_absolute_error: 21.2764\n",
            "Epoch 293/500\n",
            "392/392 - 1s - loss: 20.8670 - mean_absolute_error: 20.8670\n",
            "Epoch 294/500\n",
            "392/392 - 1s - loss: 21.7302 - mean_absolute_error: 21.7302\n",
            "Epoch 295/500\n",
            "392/392 - 0s - loss: 22.1691 - mean_absolute_error: 22.1691\n",
            "Epoch 296/500\n",
            "392/392 - 1s - loss: 21.5221 - mean_absolute_error: 21.5221\n",
            "Epoch 297/500\n",
            "392/392 - 1s - loss: 22.0597 - mean_absolute_error: 22.0597\n",
            "Epoch 298/500\n",
            "392/392 - 1s - loss: 20.6992 - mean_absolute_error: 20.6992\n",
            "Epoch 299/500\n",
            "392/392 - 1s - loss: 22.1774 - mean_absolute_error: 22.1774\n",
            "Epoch 300/500\n",
            "392/392 - 1s - loss: 21.7555 - mean_absolute_error: 21.7555\n",
            "Epoch 301/500\n",
            "392/392 - 1s - loss: 21.9687 - mean_absolute_error: 21.9687\n",
            "Epoch 302/500\n",
            "392/392 - 1s - loss: 21.1050 - mean_absolute_error: 21.1050\n",
            "Epoch 303/500\n",
            "392/392 - 1s - loss: 21.6900 - mean_absolute_error: 21.6900\n",
            "Epoch 304/500\n",
            "392/392 - 1s - loss: 21.6678 - mean_absolute_error: 21.6678\n",
            "Epoch 305/500\n",
            "392/392 - 1s - loss: 20.8065 - mean_absolute_error: 20.8065\n",
            "Epoch 306/500\n",
            "392/392 - 1s - loss: 21.6396 - mean_absolute_error: 21.6396\n",
            "Epoch 307/500\n",
            "392/392 - 0s - loss: 20.3558 - mean_absolute_error: 20.3558\n",
            "Epoch 308/500\n",
            "392/392 - 1s - loss: 21.4095 - mean_absolute_error: 21.4095\n",
            "Epoch 309/500\n",
            "392/392 - 0s - loss: 20.6812 - mean_absolute_error: 20.6812\n",
            "Epoch 310/500\n",
            "392/392 - 1s - loss: 20.5490 - mean_absolute_error: 20.5490\n",
            "Epoch 311/500\n",
            "392/392 - 1s - loss: 21.5291 - mean_absolute_error: 21.5291\n",
            "Epoch 312/500\n",
            "392/392 - 1s - loss: 21.6662 - mean_absolute_error: 21.6662\n",
            "Epoch 313/500\n",
            "392/392 - 1s - loss: 20.0568 - mean_absolute_error: 20.0568\n",
            "Epoch 314/500\n",
            "392/392 - 1s - loss: 21.7167 - mean_absolute_error: 21.7167\n",
            "Epoch 315/500\n",
            "392/392 - 1s - loss: 21.9496 - mean_absolute_error: 21.9496\n",
            "Epoch 316/500\n",
            "392/392 - 1s - loss: 20.6459 - mean_absolute_error: 20.6459\n",
            "Epoch 317/500\n",
            "392/392 - 1s - loss: 21.4223 - mean_absolute_error: 21.4223\n",
            "Epoch 318/500\n",
            "392/392 - 1s - loss: 21.3417 - mean_absolute_error: 21.3417\n",
            "Epoch 319/500\n",
            "392/392 - 1s - loss: 20.5374 - mean_absolute_error: 20.5374\n",
            "Epoch 320/500\n",
            "392/392 - 1s - loss: 21.7876 - mean_absolute_error: 21.7876\n",
            "Epoch 321/500\n",
            "392/392 - 1s - loss: 20.9835 - mean_absolute_error: 20.9835\n",
            "Epoch 322/500\n",
            "392/392 - 1s - loss: 21.2928 - mean_absolute_error: 21.2928\n",
            "Epoch 323/500\n",
            "392/392 - 1s - loss: 20.4920 - mean_absolute_error: 20.4920\n",
            "Epoch 324/500\n",
            "392/392 - 1s - loss: 21.7347 - mean_absolute_error: 21.7347\n",
            "Epoch 325/500\n",
            "392/392 - 0s - loss: 20.5198 - mean_absolute_error: 20.5198\n",
            "Epoch 326/500\n",
            "392/392 - 1s - loss: 21.7352 - mean_absolute_error: 21.7352\n",
            "Epoch 327/500\n",
            "392/392 - 1s - loss: 20.5021 - mean_absolute_error: 20.5021\n",
            "Epoch 328/500\n",
            "392/392 - 1s - loss: 20.6996 - mean_absolute_error: 20.6996\n",
            "Epoch 329/500\n",
            "392/392 - 1s - loss: 20.4088 - mean_absolute_error: 20.4088\n",
            "Epoch 330/500\n",
            "392/392 - 1s - loss: 20.1297 - mean_absolute_error: 20.1297\n",
            "Epoch 331/500\n",
            "392/392 - 0s - loss: 21.6613 - mean_absolute_error: 21.6613\n",
            "Epoch 332/500\n",
            "392/392 - 1s - loss: 21.0465 - mean_absolute_error: 21.0465\n",
            "Epoch 333/500\n",
            "392/392 - 0s - loss: 20.2694 - mean_absolute_error: 20.2694\n",
            "Epoch 334/500\n",
            "392/392 - 1s - loss: 21.3919 - mean_absolute_error: 21.3919\n",
            "Epoch 335/500\n",
            "392/392 - 0s - loss: 21.3933 - mean_absolute_error: 21.3933\n",
            "Epoch 336/500\n",
            "392/392 - 1s - loss: 21.0673 - mean_absolute_error: 21.0673\n",
            "Epoch 337/500\n",
            "392/392 - 1s - loss: 20.8869 - mean_absolute_error: 20.8869\n",
            "Epoch 338/500\n",
            "392/392 - 1s - loss: 20.2724 - mean_absolute_error: 20.2724\n",
            "Epoch 339/500\n",
            "392/392 - 0s - loss: 21.2248 - mean_absolute_error: 21.2248\n",
            "Epoch 340/500\n",
            "392/392 - 1s - loss: 20.8027 - mean_absolute_error: 20.8027\n",
            "Epoch 341/500\n",
            "392/392 - 1s - loss: 20.8905 - mean_absolute_error: 20.8905\n",
            "Epoch 342/500\n",
            "392/392 - 1s - loss: 20.3351 - mean_absolute_error: 20.3351\n",
            "Epoch 343/500\n",
            "392/392 - 1s - loss: 19.4744 - mean_absolute_error: 19.4744\n",
            "Epoch 344/500\n",
            "392/392 - 1s - loss: 20.1196 - mean_absolute_error: 20.1196\n",
            "Epoch 345/500\n",
            "392/392 - 1s - loss: 20.9278 - mean_absolute_error: 20.9278\n",
            "Epoch 346/500\n",
            "392/392 - 1s - loss: 20.2198 - mean_absolute_error: 20.2198\n",
            "Epoch 347/500\n",
            "392/392 - 1s - loss: 20.0479 - mean_absolute_error: 20.0479\n",
            "Epoch 348/500\n",
            "392/392 - 1s - loss: 20.9047 - mean_absolute_error: 20.9047\n",
            "Epoch 349/500\n",
            "392/392 - 1s - loss: 20.6836 - mean_absolute_error: 20.6836\n",
            "Epoch 350/500\n",
            "392/392 - 1s - loss: 19.9710 - mean_absolute_error: 19.9710\n",
            "Epoch 351/500\n",
            "392/392 - 1s - loss: 20.9548 - mean_absolute_error: 20.9548\n",
            "Epoch 352/500\n",
            "392/392 - 1s - loss: 20.2804 - mean_absolute_error: 20.2804\n",
            "Epoch 353/500\n",
            "392/392 - 1s - loss: 21.0177 - mean_absolute_error: 21.0177\n",
            "Epoch 354/500\n",
            "392/392 - 1s - loss: 20.9374 - mean_absolute_error: 20.9374\n",
            "Epoch 355/500\n",
            "392/392 - 1s - loss: 20.8981 - mean_absolute_error: 20.8981\n",
            "Epoch 356/500\n",
            "392/392 - 1s - loss: 20.2321 - mean_absolute_error: 20.2321\n",
            "Epoch 357/500\n",
            "392/392 - 1s - loss: 20.8179 - mean_absolute_error: 20.8179\n",
            "Epoch 358/500\n",
            "392/392 - 1s - loss: 20.2062 - mean_absolute_error: 20.2062\n",
            "Epoch 359/500\n",
            "392/392 - 1s - loss: 19.8811 - mean_absolute_error: 19.8811\n",
            "Epoch 360/500\n",
            "392/392 - 0s - loss: 19.7428 - mean_absolute_error: 19.7428\n",
            "Epoch 361/500\n",
            "392/392 - 1s - loss: 20.5871 - mean_absolute_error: 20.5871\n",
            "Epoch 362/500\n",
            "392/392 - 0s - loss: 19.8421 - mean_absolute_error: 19.8421\n",
            "Epoch 363/500\n",
            "392/392 - 1s - loss: 20.4145 - mean_absolute_error: 20.4145\n",
            "Epoch 364/500\n",
            "392/392 - 0s - loss: 20.9277 - mean_absolute_error: 20.9277\n",
            "Epoch 365/500\n",
            "392/392 - 1s - loss: 21.2272 - mean_absolute_error: 21.2272\n",
            "Epoch 366/500\n",
            "392/392 - 1s - loss: 20.3744 - mean_absolute_error: 20.3744\n",
            "Epoch 367/500\n",
            "392/392 - 1s - loss: 20.5490 - mean_absolute_error: 20.5490\n",
            "Epoch 368/500\n",
            "392/392 - 1s - loss: 20.6461 - mean_absolute_error: 20.6461\n",
            "Epoch 369/500\n",
            "392/392 - 1s - loss: 20.4169 - mean_absolute_error: 20.4169\n",
            "Epoch 370/500\n",
            "392/392 - 0s - loss: 20.5533 - mean_absolute_error: 20.5533\n",
            "Epoch 371/500\n",
            "392/392 - 1s - loss: 21.3008 - mean_absolute_error: 21.3008\n",
            "Epoch 372/500\n",
            "392/392 - 1s - loss: 20.6662 - mean_absolute_error: 20.6662\n",
            "Epoch 373/500\n",
            "392/392 - 1s - loss: 19.8804 - mean_absolute_error: 19.8804\n",
            "Epoch 374/500\n",
            "392/392 - 0s - loss: 20.4198 - mean_absolute_error: 20.4198\n",
            "Epoch 375/500\n",
            "392/392 - 1s - loss: 19.8644 - mean_absolute_error: 19.8644\n",
            "Epoch 376/500\n",
            "392/392 - 1s - loss: 19.5119 - mean_absolute_error: 19.5119\n",
            "Epoch 377/500\n",
            "392/392 - 1s - loss: 20.0459 - mean_absolute_error: 20.0459\n",
            "Epoch 378/500\n",
            "392/392 - 1s - loss: 20.7863 - mean_absolute_error: 20.7863\n",
            "Epoch 379/500\n",
            "392/392 - 1s - loss: 20.0667 - mean_absolute_error: 20.0667\n",
            "Epoch 380/500\n",
            "392/392 - 0s - loss: 20.6833 - mean_absolute_error: 20.6833\n",
            "Epoch 381/500\n",
            "392/392 - 1s - loss: 20.3511 - mean_absolute_error: 20.3511\n",
            "Epoch 382/500\n",
            "392/392 - 0s - loss: 20.7194 - mean_absolute_error: 20.7194\n",
            "Epoch 383/500\n",
            "392/392 - 1s - loss: 20.0901 - mean_absolute_error: 20.0901\n",
            "Epoch 384/500\n",
            "392/392 - 1s - loss: 20.2659 - mean_absolute_error: 20.2659\n",
            "Epoch 385/500\n",
            "392/392 - 1s - loss: 21.2754 - mean_absolute_error: 21.2754\n",
            "Epoch 386/500\n",
            "392/392 - 1s - loss: 20.4763 - mean_absolute_error: 20.4763\n",
            "Epoch 387/500\n",
            "392/392 - 1s - loss: 19.9402 - mean_absolute_error: 19.9402\n",
            "Epoch 388/500\n",
            "392/392 - 1s - loss: 19.6215 - mean_absolute_error: 19.6215\n",
            "Epoch 389/500\n",
            "392/392 - 1s - loss: 20.5073 - mean_absolute_error: 20.5073\n",
            "Epoch 390/500\n",
            "392/392 - 1s - loss: 20.6120 - mean_absolute_error: 20.6120\n",
            "Epoch 391/500\n",
            "392/392 - 1s - loss: 20.8523 - mean_absolute_error: 20.8523\n",
            "Epoch 392/500\n",
            "392/392 - 1s - loss: 20.7099 - mean_absolute_error: 20.7099\n",
            "Epoch 393/500\n",
            "392/392 - 1s - loss: 20.9334 - mean_absolute_error: 20.9334\n",
            "Epoch 394/500\n",
            "392/392 - 1s - loss: 21.0891 - mean_absolute_error: 21.0891\n",
            "Epoch 395/500\n",
            "392/392 - 1s - loss: 20.0889 - mean_absolute_error: 20.0889\n",
            "Epoch 396/500\n",
            "392/392 - 1s - loss: 21.0644 - mean_absolute_error: 21.0644\n",
            "Epoch 397/500\n",
            "392/392 - 1s - loss: 20.3393 - mean_absolute_error: 20.3393\n",
            "Epoch 398/500\n",
            "392/392 - 1s - loss: 20.1015 - mean_absolute_error: 20.1015\n",
            "Epoch 399/500\n",
            "392/392 - 1s - loss: 20.5069 - mean_absolute_error: 20.5069\n",
            "Epoch 400/500\n",
            "392/392 - 1s - loss: 20.2899 - mean_absolute_error: 20.2899\n",
            "Epoch 401/500\n",
            "392/392 - 1s - loss: 20.8825 - mean_absolute_error: 20.8825\n",
            "Epoch 402/500\n",
            "392/392 - 1s - loss: 20.5759 - mean_absolute_error: 20.5759\n",
            "Epoch 403/500\n",
            "392/392 - 1s - loss: 20.2457 - mean_absolute_error: 20.2457\n",
            "Epoch 404/500\n",
            "392/392 - 1s - loss: 20.6274 - mean_absolute_error: 20.6274\n",
            "Epoch 405/500\n",
            "392/392 - 1s - loss: 20.8169 - mean_absolute_error: 20.8169\n",
            "Epoch 406/500\n",
            "392/392 - 1s - loss: 20.8869 - mean_absolute_error: 20.8869\n",
            "Epoch 407/500\n",
            "392/392 - 1s - loss: 19.8187 - mean_absolute_error: 19.8187\n",
            "Epoch 408/500\n",
            "392/392 - 1s - loss: 20.5738 - mean_absolute_error: 20.5738\n",
            "Epoch 409/500\n",
            "392/392 - 1s - loss: 20.6728 - mean_absolute_error: 20.6728\n",
            "Epoch 410/500\n",
            "392/392 - 1s - loss: 21.3000 - mean_absolute_error: 21.3000\n",
            "Epoch 411/500\n",
            "392/392 - 1s - loss: 21.0502 - mean_absolute_error: 21.0502\n",
            "Epoch 412/500\n",
            "392/392 - 1s - loss: 20.0778 - mean_absolute_error: 20.0778\n",
            "Epoch 413/500\n",
            "392/392 - 1s - loss: 20.1670 - mean_absolute_error: 20.1670\n",
            "Epoch 414/500\n",
            "392/392 - 1s - loss: 20.1153 - mean_absolute_error: 20.1153\n",
            "Epoch 415/500\n",
            "392/392 - 1s - loss: 20.2578 - mean_absolute_error: 20.2578\n",
            "Epoch 416/500\n",
            "392/392 - 1s - loss: 21.0430 - mean_absolute_error: 21.0430\n",
            "Epoch 417/500\n",
            "392/392 - 1s - loss: 20.2429 - mean_absolute_error: 20.2429\n",
            "Epoch 418/500\n",
            "392/392 - 1s - loss: 20.5417 - mean_absolute_error: 20.5417\n",
            "Epoch 419/500\n",
            "392/392 - 1s - loss: 21.2615 - mean_absolute_error: 21.2615\n",
            "Epoch 420/500\n",
            "392/392 - 1s - loss: 19.5927 - mean_absolute_error: 19.5927\n",
            "Epoch 421/500\n",
            "392/392 - 1s - loss: 19.7804 - mean_absolute_error: 19.7804\n",
            "Epoch 422/500\n",
            "392/392 - 1s - loss: 20.3946 - mean_absolute_error: 20.3946\n",
            "Epoch 423/500\n",
            "392/392 - 1s - loss: 20.5756 - mean_absolute_error: 20.5756\n",
            "Epoch 424/500\n",
            "392/392 - 1s - loss: 20.2014 - mean_absolute_error: 20.2014\n",
            "Epoch 425/500\n",
            "392/392 - 1s - loss: 20.0904 - mean_absolute_error: 20.0904\n",
            "Epoch 426/500\n",
            "392/392 - 1s - loss: 20.5419 - mean_absolute_error: 20.5419\n",
            "Epoch 427/500\n",
            "392/392 - 1s - loss: 20.8482 - mean_absolute_error: 20.8482\n",
            "Epoch 428/500\n",
            "392/392 - 1s - loss: 19.8577 - mean_absolute_error: 19.8577\n",
            "Epoch 429/500\n",
            "392/392 - 1s - loss: 20.3620 - mean_absolute_error: 20.3620\n",
            "Epoch 430/500\n",
            "392/392 - 1s - loss: 20.0803 - mean_absolute_error: 20.0803\n",
            "Epoch 431/500\n",
            "392/392 - 1s - loss: 20.6716 - mean_absolute_error: 20.6716\n",
            "Epoch 432/500\n",
            "392/392 - 1s - loss: 19.6605 - mean_absolute_error: 19.6605\n",
            "Epoch 433/500\n",
            "392/392 - 1s - loss: 20.7499 - mean_absolute_error: 20.7499\n",
            "Epoch 434/500\n",
            "392/392 - 1s - loss: 20.0334 - mean_absolute_error: 20.0334\n",
            "Epoch 435/500\n",
            "392/392 - 0s - loss: 19.4862 - mean_absolute_error: 19.4862\n",
            "Epoch 436/500\n",
            "392/392 - 1s - loss: 20.8868 - mean_absolute_error: 20.8868\n",
            "Epoch 437/500\n",
            "392/392 - 1s - loss: 20.8182 - mean_absolute_error: 20.8182\n",
            "Epoch 438/500\n",
            "392/392 - 1s - loss: 19.4442 - mean_absolute_error: 19.4442\n",
            "Epoch 439/500\n",
            "392/392 - 1s - loss: 20.8310 - mean_absolute_error: 20.8310\n",
            "Epoch 440/500\n",
            "392/392 - 1s - loss: 20.7710 - mean_absolute_error: 20.7710\n",
            "Epoch 441/500\n",
            "392/392 - 1s - loss: 19.4720 - mean_absolute_error: 19.4720\n",
            "Epoch 442/500\n",
            "392/392 - 1s - loss: 20.2468 - mean_absolute_error: 20.2468\n",
            "Epoch 443/500\n",
            "392/392 - 1s - loss: 19.3832 - mean_absolute_error: 19.3832\n",
            "Epoch 444/500\n",
            "392/392 - 1s - loss: 20.2102 - mean_absolute_error: 20.2102\n",
            "Epoch 445/500\n",
            "392/392 - 1s - loss: 20.3911 - mean_absolute_error: 20.3911\n",
            "Epoch 446/500\n",
            "392/392 - 1s - loss: 20.8686 - mean_absolute_error: 20.8686\n",
            "Epoch 447/500\n",
            "392/392 - 1s - loss: 19.9791 - mean_absolute_error: 19.9791\n",
            "Epoch 448/500\n",
            "392/392 - 1s - loss: 20.6597 - mean_absolute_error: 20.6597\n",
            "Epoch 449/500\n",
            "392/392 - 1s - loss: 19.6446 - mean_absolute_error: 19.6446\n",
            "Epoch 450/500\n",
            "392/392 - 1s - loss: 19.7051 - mean_absolute_error: 19.7051\n",
            "Epoch 451/500\n",
            "392/392 - 1s - loss: 20.3294 - mean_absolute_error: 20.3294\n",
            "Epoch 452/500\n",
            "392/392 - 1s - loss: 20.8635 - mean_absolute_error: 20.8635\n",
            "Epoch 453/500\n",
            "392/392 - 1s - loss: 20.0465 - mean_absolute_error: 20.0465\n",
            "Epoch 454/500\n",
            "392/392 - 1s - loss: 20.1282 - mean_absolute_error: 20.1282\n",
            "Epoch 455/500\n",
            "392/392 - 1s - loss: 19.6729 - mean_absolute_error: 19.6729\n",
            "Epoch 456/500\n",
            "392/392 - 0s - loss: 20.5456 - mean_absolute_error: 20.5456\n",
            "Epoch 457/500\n",
            "392/392 - 1s - loss: 19.7483 - mean_absolute_error: 19.7483\n",
            "Epoch 458/500\n",
            "392/392 - 1s - loss: 19.9403 - mean_absolute_error: 19.9403\n",
            "Epoch 459/500\n",
            "392/392 - 1s - loss: 19.9367 - mean_absolute_error: 19.9367\n",
            "Epoch 460/500\n",
            "392/392 - 1s - loss: 20.8178 - mean_absolute_error: 20.8178\n",
            "Epoch 461/500\n",
            "392/392 - 1s - loss: 19.5565 - mean_absolute_error: 19.5565\n",
            "Epoch 462/500\n",
            "392/392 - 1s - loss: 20.1723 - mean_absolute_error: 20.1723\n",
            "Epoch 463/500\n",
            "392/392 - 1s - loss: 20.5249 - mean_absolute_error: 20.5249\n",
            "Epoch 464/500\n",
            "392/392 - 1s - loss: 20.9030 - mean_absolute_error: 20.9030\n",
            "Epoch 465/500\n",
            "392/392 - 1s - loss: 19.6160 - mean_absolute_error: 19.6160\n",
            "Epoch 466/500\n",
            "392/392 - 1s - loss: 20.7301 - mean_absolute_error: 20.7301\n",
            "Epoch 467/500\n",
            "392/392 - 1s - loss: 19.5168 - mean_absolute_error: 19.5168\n",
            "Epoch 468/500\n",
            "392/392 - 1s - loss: 19.9791 - mean_absolute_error: 19.9791\n",
            "Epoch 469/500\n",
            "392/392 - 1s - loss: 19.9305 - mean_absolute_error: 19.9305\n",
            "Epoch 470/500\n",
            "392/392 - 1s - loss: 19.7945 - mean_absolute_error: 19.7945\n",
            "Epoch 471/500\n",
            "392/392 - 1s - loss: 20.6126 - mean_absolute_error: 20.6126\n",
            "Epoch 472/500\n",
            "392/392 - 1s - loss: 20.7642 - mean_absolute_error: 20.7642\n",
            "Epoch 473/500\n",
            "392/392 - 1s - loss: 19.1722 - mean_absolute_error: 19.1722\n",
            "Epoch 474/500\n",
            "392/392 - 0s - loss: 19.7886 - mean_absolute_error: 19.7886\n",
            "Epoch 475/500\n",
            "392/392 - 1s - loss: 19.8348 - mean_absolute_error: 19.8348\n",
            "Epoch 476/500\n",
            "392/392 - 1s - loss: 20.0107 - mean_absolute_error: 20.0107\n",
            "Epoch 477/500\n",
            "392/392 - 1s - loss: 19.7029 - mean_absolute_error: 19.7029\n",
            "Epoch 478/500\n",
            "392/392 - 1s - loss: 20.8195 - mean_absolute_error: 20.8195\n",
            "Epoch 479/500\n",
            "392/392 - 1s - loss: 19.1455 - mean_absolute_error: 19.1455\n",
            "Epoch 480/500\n",
            "392/392 - 1s - loss: 19.7626 - mean_absolute_error: 19.7626\n",
            "Epoch 481/500\n",
            "392/392 - 1s - loss: 20.0041 - mean_absolute_error: 20.0041\n",
            "Epoch 482/500\n",
            "392/392 - 0s - loss: 19.3843 - mean_absolute_error: 19.3843\n",
            "Epoch 483/500\n",
            "392/392 - 0s - loss: 19.8270 - mean_absolute_error: 19.8270\n",
            "Epoch 484/500\n",
            "392/392 - 0s - loss: 20.0890 - mean_absolute_error: 20.0890\n",
            "Epoch 485/500\n",
            "392/392 - 1s - loss: 19.1988 - mean_absolute_error: 19.1988\n",
            "Epoch 486/500\n",
            "392/392 - 1s - loss: 19.3573 - mean_absolute_error: 19.3573\n",
            "Epoch 487/500\n",
            "392/392 - 1s - loss: 20.7407 - mean_absolute_error: 20.7407\n",
            "Epoch 488/500\n",
            "392/392 - 1s - loss: 19.1081 - mean_absolute_error: 19.1081\n",
            "Epoch 489/500\n",
            "392/392 - 1s - loss: 20.0407 - mean_absolute_error: 20.0407\n",
            "Epoch 490/500\n",
            "392/392 - 0s - loss: 20.2678 - mean_absolute_error: 20.2678\n",
            "Epoch 491/500\n",
            "392/392 - 1s - loss: 20.5493 - mean_absolute_error: 20.5493\n",
            "Epoch 492/500\n",
            "392/392 - 1s - loss: 20.9114 - mean_absolute_error: 20.9114\n",
            "Epoch 493/500\n",
            "392/392 - 1s - loss: 19.9250 - mean_absolute_error: 19.9250\n",
            "Epoch 494/500\n",
            "392/392 - 1s - loss: 19.8834 - mean_absolute_error: 19.8834\n",
            "Epoch 495/500\n",
            "392/392 - 1s - loss: 20.0645 - mean_absolute_error: 20.0645\n",
            "Epoch 496/500\n",
            "392/392 - 0s - loss: 19.4936 - mean_absolute_error: 19.4936\n",
            "Epoch 497/500\n",
            "392/392 - 1s - loss: 20.3279 - mean_absolute_error: 20.3279\n",
            "Epoch 498/500\n",
            "392/392 - 0s - loss: 19.6454 - mean_absolute_error: 19.6454\n",
            "Epoch 499/500\n",
            "392/392 - 1s - loss: 20.0982 - mean_absolute_error: 20.0982\n",
            "Epoch 500/500\n",
            "392/392 - 0s - loss: 19.7317 - mean_absolute_error: 19.7317\n"
          ],
          "name": "stdout"
        }
      ]
    },
    {
      "cell_type": "code",
      "metadata": {
        "id": "PvpSMK5jpdVc",
        "colab_type": "code",
        "colab": {
          "base_uri": "https://localhost:8080/",
          "height": 281
        },
        "outputId": "29c04616-6195-4695-b5d0-b2ead1c365d1"
      },
      "source": [
        "plt.plot(history2.history['loss'])\n",
        "plt.title('Training mean absolute error')\n",
        "plt.show()"
      ],
      "execution_count": 35,
      "outputs": [
        {
          "output_type": "display_data",
          "data": {
            "image/png": "[encoded data removed]",
            "text/plain": [
              "<Figure size 432x288 with 1 Axes>"
            ]
          },
          "metadata": {
            "tags": [],
            "needs_background": "light"
          }
        }
      ]
    },
    {
      "cell_type": "markdown",
      "metadata": {
        "id": "_rDUDYu6sPVG",
        "colab_type": "text"
      },
      "source": [
        "we can clearly see that there are some fluctuvations in endiing we can zoom taht with following command"
      ]
    },
    {
      "cell_type": "code",
      "metadata": {
        "id": "Wb4aF-fqsevY",
        "colab_type": "code",
        "colab": {
          "base_uri": "https://localhost:8080/",
          "height": 281
        },
        "outputId": "81fdd055-fdfb-4b1f-a26a-0de03143f0e2"
      },
      "source": [
        "epochs=range(len(history2.history['loss']))\n",
        "plt.plot(epochs[300:],history2.history['loss'][300:])\n",
        "plt.title('Training mean absolute error')\n",
        "plt.show()"
      ],
      "execution_count": 38,
      "outputs": [
        {
          "output_type": "display_data",
          "data": {
            "image/png": "[encoded data removed]",
            "text/plain": [
              "<Figure size 432x288 with 1 Axes>"
            ]
          },
          "metadata": {
            "tags": [],
            "needs_background": "light"
          }
        }
      ]
    },
    {
      "cell_type": "markdown",
      "metadata": {
        "id": "RUXUKia2sonm",
        "colab_type": "text"
      },
      "source": [
        "Conclusion form this fig:\n",
        "we can stop our training after almost 400 epoch it clearly shows that our model is still learning but after you tain further it not going to improve accuracy in large amount. Thats why we should stop training so that our costliest element i.e. Time can be saved.\n"
      ]
    }
  ]
}